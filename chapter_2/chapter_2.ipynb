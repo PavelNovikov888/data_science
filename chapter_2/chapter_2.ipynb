{
 "cells": [
  {
   "cell_type": "markdown",
   "metadata": {},
   "source": [
    "# 2. Предобработка исследовательских данных"
   ]
  },
  {
   "cell_type": "markdown",
   "metadata": {},
   "source": [
    "## 2.1. Подключение и работа с библиотекой numpy"
   ]
  },
  {
   "cell_type": "code",
   "execution_count": null,
   "metadata": {},
   "outputs": [],
   "source": [
    "import numpy as np\n",
    "\n",
    "a = np.array([[1, 2, 3],    # Массив 3x3 из списков\n",
    "              [1, 2, 3],\n",
    "              [1, 2, 3]])\n",
    "b = np.arange(1, 10, 1)     # Массив от 1 до 10 с шагом 1\n",
    "c = np.empty((3, 3))        # Массив 3x3 без заполнения\n",
    "d = np.eye(5)               # Единичная матрица 5x5\n",
    "e = np.linspace(0, 2, 9)    # Массив 0-2 всего 9 значений"
   ]
  },
  {
   "cell_type": "code",
   "execution_count": null,
   "metadata": {},
   "outputs": [],
   "source": [
    "import numpy as np\n",
    "\n",
    "# Арифметические операции (размер массивов одинаковый)\n",
    "\n",
    "a = np.array([1, 2, 3, 4])\n",
    "b = np.arange(1, 5)\n",
    "\n",
    "print(a + b)     # Суммирование элементов\n",
    "print(a - b)     # Вычитание элементов\n",
    "print(a * b)     # Умножение элементов\n",
    "print(a / b)     # Деление элементов\n",
    "print(a ** b)    # Возведение в степень\n",
    "print(a % b)     # Остаток от деления\n",
    "\n",
    "np.sin(a)      # Тригонометрическая функция sin() \n",
    "np.cos(a)      # Тригонометрическая функция cos() \n",
    "np.arctan(b)   # Тригонометрическая функция arctan()\n",
    "\n",
    "a = np.array([1, 2, 3, 4])\n",
    "\n",
    "a.sum()          # Нахождение суммы элементов массива\n",
    "a.min()          # Нахождения минимума массива \n",
    "a.max()          # Нахождения максимума массива  \n",
    "\n",
    "a.min(axis = 0)  # Наименьшее число в каждом столбце (для строк = 1)\n",
    "\n",
    "# Индексы, срезы, итерации\n",
    "\n",
    "a = np.array([[0, 1, 2],\n",
    "              [3, 4, 5],\n",
    "              [6, 7, 8]])\n",
    "\n",
    "a[1, 2]          # Вторая строка, третий столбец (допустимо a[1][2])\n",
    "a[:, 1]          # Второй столбец\n",
    "a[:1]            # Первая строка\n",
    "a[0:2, :]        # Первая и вторая строки\n",
    "\n",
    "for row in a:       # Построчный вывод массива\n",
    "    print(row)\n",
    "for elem in a.flat: # Поэлементный вывод массива\n",
    "    print(elem)\n",
    "    \n",
    "# Объединение и разделение массивов\n",
    "\n",
    "a = np.array([[1, 2], [3, 4]]) \n",
    "b = np.array([[5, 6], [7, 8]]) \n",
    "np.vstack((a, b))       # Объединение по первым осям\n",
    "np.hstack((a, b))       # Объединение по последним осям\n",
    "\n",
    "a = np.array([1, 2]) \n",
    "b = np.array([3, 4]) \n",
    "np.column_stack((a, b)) # Объединение столбцов одномерных массивов\n",
    "np.row_stack((a, b))    # Объединение строк одномерных массивов\n",
    "\n",
    "a = np.array([[1, 2, 3], [3, 4, 5]])\n",
    "np.hsplit(a, 3)         # Разбить массив на 3 части\n",
    "np.hsplit(a, (2, 3))    # Разрезать a после второго и третьего столбца\n",
    "\n",
    "d = a.copy()            # Новый объект массива с новыми данными"
   ]
  },
  {
   "cell_type": "code",
   "execution_count": null,
   "metadata": {},
   "outputs": [],
   "source": [
    "heights = [189, 170, 189, 163, 183, 171, 185, 168, 173, 183, 173, 173, 175, 178, 183, 193, 178, 173, 174, 183, 183, 180, 168, 180, 170, 178, 182, 180, 183, 178, 182, 188, 175, 179, 183, 193, 182, 183, 177, 185, 188, 188, 182, 185, 191]\n",
    "\n",
    "ages = [57, 61, 57, 57, 58, 57, 61, 54, 68, 51, 49, 64, 50, 48, 65, 52, 56, 46, 54, 49, 51, 47, 55, 55, 54, 42, 51, 56, 55, 51, 54, 51, 60, 62, 43, 55, 56, 61, 52, 69, 64, 46, 54, 47, 70]"
   ]
  },
  {
   "cell_type": "code",
   "execution_count": null,
   "metadata": {},
   "outputs": [],
   "source": [
    "cnt = 0\n",
    "for height in heights:\n",
    "  if height > 188:\n",
    "    cnt +=1\n",
    "print(cnt)"
   ]
  },
  {
   "cell_type": "code",
   "execution_count": null,
   "metadata": {},
   "outputs": [],
   "source": [
    "import numpy as np\n",
    "\n",
    "heights = [189, 170, 189, 163, 183, 171, 185, 168, 173, 183, 173, 173, 175, 178, 183, 193, 178, 173, 174, 183, 183, 180, 168, 180, 170, 178, 182, 180, 183, 178, 182, 188, 175, 179, 183, 193, 182, 183, 177, 185, 188, 188, 182, 185, 191]\n",
    "ages = [57, 61, 57, 57, 58, 57, 61, 54, 68, 51, 49, 64, 50, 48, 65, 52, 56, 46, 54, 49, 51, 47, 55, 55, 54, 42, 51, 56, 55, 51, 54, 51, 60, 62, 43, 55, 56, 61, 52, 69, 64, 46, 54, 47, 70]\n",
    "\n",
    "# Преобразование типа данных\n",
    "heights_arr = np.array(heights)\n",
    "ages_arr = np.array(ages)\n",
    "\n",
    "# Вывод на экран кол-во элементов каждого массива\n",
    "print(heights_arr.size)\n",
    "print(ages_arr.size)\n",
    "\n",
    "# Вывод на экран размера массива\n",
    "print(heights_arr.shape)\n",
    "print(ages_arr.shape)\n",
    "\n",
    "print(heights_arr.dtype)\n",
    "print(ages_arr.dtype)"
   ]
  },
  {
   "cell_type": "code",
   "execution_count": null,
   "metadata": {},
   "outputs": [],
   "source": [
    "# Изменение формы массива (строка –> столбец)\n",
    "heights_arr = heights_arr.reshape((45,1))\n",
    "ages_arr = ages_arr.reshape((45,1))\n",
    "\n",
    "# Изменение формы массива (столбец –> строка)\n",
    "heights_arr = heights_arr.reshape((1,45))\n",
    "ages_arr = ages_arr.reshape((1,45))\n",
    "\n",
    "# Объединение массивов heights_arr и ages_arr\n",
    "height_age_arr = np.hstack((heights_arr, ages_arr))\n",
    "\n",
    "# Переназначение элементов массива\n",
    "heights_and_ages_arr[0, 3] = 165\n",
    "heights_and_ages_arr[:, 0] = [190, 58]\n",
    "new_record = np.array([[180, 183, 190], [54, 50, 69]])\n",
    "heights_and_ages_arr[:, 42:] = new_record\n",
    "\n",
    "# Связывание массивов heights_arr и ages_arr\n",
    "height_age_arr = np.concatenate((heights_arr, ages_arr), axis=1) \n",
    "\n",
    "# Применение математических операций (*, /, +, -)\n",
    "height_age_arr[:,0]*0.0328084\n",
    "\n",
    "# Применение методов numpy\n",
    "height_age_arr.sum()\n",
    "height_age_arr.sum(axis=0)\n",
    "\n",
    "# Использование логических условий\n",
    "height_age_arr[:, 1] < 55\n",
    "height_age_arr[:, 1] == 51\n",
    "\n",
    "# Использование маски для среза данных\n",
    "mask = height_age_arr[:, 0] >= 182\n",
    "mask.sum()\n",
    "mask = (height_age_arr[:, 0]>=182) & (height_age_arr[:,1]<=50)\n",
    "height_age_arr[mask,]"
   ]
  },
  {
   "cell_type": "code",
   "execution_count": null,
   "metadata": {},
   "outputs": [],
   "source": [
    "import numpy as np\n",
    "heights_arr = np.array(heights)\n",
    "print((heights_arr > 188).sum())"
   ]
  },
  {
   "cell_type": "markdown",
   "metadata": {},
   "source": [
    "## 2.2. Подключение и работа с библиотекой pandas"
   ]
  },
  {
   "cell_type": "code",
   "execution_count": null,
   "metadata": {},
   "outputs": [],
   "source": [
    "import pandas as pd\n",
    "\n",
    "# Создание Series из словаря\n",
    "pd.Series({'a': 1, 'b': 2, 'c': 3})\n",
    "\n",
    "# Создание Series из списка\n",
    "pd.Series([1, 2, 3], index=['a', 'b', 'c'])\n",
    "\n",
    "# Создание Series, используя numpy\n",
    "pd.Series(np.array([1, 2, 3]), index=['a', 'b', 'c'])\n",
    "series['a']"
   ]
  },
  {
   "cell_type": "code",
   "execution_count": null,
   "metadata": {},
   "outputs": [],
   "source": [
    "import pandas as pd\n",
    "\n",
    "# Создание DataFrame из словаря\n",
    "block = {\n",
    "  'block_1':[1, 2, 3], \n",
    "  'block_2':[4, 5, 6]\n",
    "}\n",
    "# pd.DataFrame(data = data, columns = columns)\n",
    "df = pd.DataFrame(block, index=[\"a\", \"b\", \"c\"])\n",
    "print(df)"
   ]
  },
  {
   "cell_type": "code",
   "execution_count": null,
   "metadata": {},
   "outputs": [],
   "source": [
    "import pandas as pd\n",
    "\n",
    "# Загрузка таблицы из txt, lvm, csv и xlsx\n",
    "df1 = pd.read_csv('data.txt', sep='\\t')\n",
    "df2 = pd.read_csv('data.lvm', sep='\\t')\n",
    "df3 = pd.read_excel('data.xlsx')\n",
    "df4 = pd.read_csv('data.csv')"
   ]
  },
  {
   "cell_type": "code",
   "execution_count": 1,
   "metadata": {},
   "outputs": [
    {
     "name": "stdout",
     "output_type": "stream",
     "text": [
      "   first_col  second_col  third_col\n",
      "0          1           8         15\n",
      "1          2           9         16\n",
      "2          3          10         17\n",
      "   first_col  second_col  third_col\n",
      "2          3          10         17\n",
      "3          4          11         18\n",
      "4          5          12         19\n"
     ]
    }
   ],
   "source": [
    "import pandas as pd\n",
    "\n",
    "numbers = [[1, 8, 15],\n",
    "           [2, 9, 16],\n",
    "           [3, 10, 17],\n",
    "           [4, 11, 18],\n",
    "           [5, 12, 19]]\n",
    "\n",
    "header = ['first_col', 'second_col', 'third_col']\n",
    "\n",
    "df = pd.DataFrame(data = numbers, columns = header)\n",
    "\n",
    "print(df.head(3)) # 3 первых строки\n",
    "print(df.tail(3)) # 3 последних строки"
   ]
  },
  {
   "cell_type": "markdown",
   "metadata": {},
   "source": [
    "## 2.3. Срезы данных и логическое индексирование"
   ]
  },
  {
   "cell_type": "code",
   "execution_count": null,
   "metadata": {},
   "outputs": [],
   "source": [
    "# df.loc[строка, столбец]\n",
    "\n",
    "df.loc[7, 'column']                 # Одна ячейка\n",
    "df.loc[:, 'column']                 # Один столбец\n",
    "df.loc[:, ['column_1', 'column_3']] # Несколько столбцов \n",
    "df.loc[:, 'column_2': 'column_4']   # Несколько столбцов подряд\n",
    "df.loc[1]                           # Одна строка \n",
    "df.loc[1:]                          # Все строки, начиная с заданной \n",
    "df.loc[:3]                          # Все строки до заданной \n",
    "df.loc[2:5]                         # Несколько строк подряд (срез)"
   ]
  },
  {
   "cell_type": "code",
   "execution_count": null,
   "metadata": {},
   "outputs": [],
   "source": [
    "# Строки, удовлетворяющие условию\n",
    "df.loc[df.loc[:,'column'] == 'X']\n",
    "df[df['column'] == 'X']\n",
    "\n",
    "# Столбец, удовлетворяющий условию\n",
    "df.loc[df.loc[:,'column'] == 'X']['column']\n",
    "df[df['column'] == 'X']['column']\n",
    "\n",
    "# С применение метода\n",
    "df.loc[df.loc[:,'column'] == 'X']['column'].count()\n",
    "df[df['column'] == 'X']['column'].count()"
   ]
  },
  {
   "cell_type": "markdown",
   "metadata": {},
   "source": [
    "## 2.4. Предобработка данных "
   ]
  },
  {
   "cell_type": "code",
   "execution_count": null,
   "metadata": {},
   "outputs": [],
   "source": [
    "# Назначение новых названий для столбцов\n",
    "df.set_axis(['first','second'], axis = 'columns', inplace = True)\n",
    "\n",
    "# Поиск и сумма всех пустых значений в таблице\n",
    "df.isnull().sum()\n",
    "df.isna().sum()\n",
    "\n",
    "# Замена всех пустых значений на нули\n",
    "df = df.fillna(0)\n",
    "\n",
    "# Удаление указанных столбцов из таблицы\n",
    "df.dropna(subset = ['first','second'], inplace = True)\n",
    "\n",
    "# Поиск и сумма всех дубликатов в таблице\n",
    "df.duplicated().sum()\n",
    "\n",
    "# Удаление дубликатов и новое индексирование данных\n",
    "df.drop_duplicates().reset_index(drop = True)\n",
    "\n",
    "# Поиск уникальных значений в таблице\n",
    "df['column'].unique()\n",
    "\n",
    "# Сортировка значений по заданному столбцу\n",
    "df.sort_values(by=['column'])\n",
    "\n",
    "# Количество уникальных значений в столбце\n",
    "df['column'].value_counts(dropna=False)\n",
    "df['column'].value_counts(normalize=True) # значения разделены на сумму\n",
    "\n",
    "# Замена значения f_value на s_value\n",
    "df.replace('f_value', 's_value')"
   ]
  },
  {
   "cell_type": "markdown",
   "metadata": {},
   "source": [
    "## 2.5. Изменение типов данных"
   ]
  },
  {
   "cell_type": "code",
   "execution_count": null,
   "metadata": {},
   "outputs": [],
   "source": [
    "import pandas as pd\n",
    "\n",
    "# Создание таблицы из внешнего файла excel\n",
    "df = pd.read_excel('file.xlsx', sheet_name='Лист1')\n",
    "\n",
    "# 1. Перевод значений столбца из типа str в вещественный float\n",
    "\n",
    "pd.to_numeric(df['column'], errors='raise')\n",
    "# если errors='raise', то в случае ошибок преобразование будет прервано\n",
    "pd.to_numeric(df['column'], errors='coerce')\n",
    "# если errors='coerce', то значения заменяются на NaN\n",
    "pd.to_numeric(df['column'], errors='ignore')\n",
    "# если errors='ignore', то значения игнорируются, но остаются\n",
    "\n",
    "# 2. Изменение типа данных на заданный (int32/64, float32/64, str)\n",
    "df['column'].astype('type')\n",
    "df['column'] = df['column'].astype('type')\n",
    "\n",
    "# 3. Перевод из строки в дату и время\n",
    "pd.to_datetime(df['date_time_column'], format='%d.%m.%Y %H:%M:%S')\n",
    "\n",
    "'''\n",
    "Формат строится с использованием следующих обозначений:\n",
    "• %d - день месяца (от 01 до 31)\n",
    "• %m - номер месяца (от 01 до 12)\n",
    "• %Y - год с указанием столетия (например, 2019)\n",
    "• %H - номер часа в 24-часовом формате\n",
    "• %I - номер часа в 12-часовом формате\n",
    "• %M - минуты (от 00 до 59)\n",
    "• %S - секунды (от 00 до 59)\n",
    "• %b – сокращённое название месяца\n",
    "• %В – полное название месяца\n",
    "• %a – день недели (коротко)\n",
    "• %A – день недели (полностью)\n",
    "• %p – до полудня (AM)\n",
    "'''\n",
    "\n",
    "# Получение отдельных данных из столбца с датой и временем\n",
    "pd.DatetimeIndex(df['time_time_column']).year   # год\n",
    "pd.DatetimeIndex(df['time_time_column']).month  # месяц\n",
    "pd.DatetimeIndex(df['time_time_column']).day    # день\n",
    "pd.DatetimeIndex(df['time_time_column']).hour   # час\n",
    "pd.DatetimeIndex(df['time_time_column']).minute # минут\n",
    "pd.DatetimeIndex(df['time_time_column']).second # секунд"
   ]
  }
 ],
 "metadata": {
  "kernelspec": {
   "display_name": "Python 3",
   "language": "python",
   "name": "python3"
  },
  "language_info": {
   "codemirror_mode": {
    "name": "ipython",
    "version": 3
   },
   "file_extension": ".py",
   "mimetype": "text/x-python",
   "name": "python",
   "nbconvert_exporter": "python",
   "pygments_lexer": "ipython3",
   "version": "3.8.3"
  }
 },
 "nbformat": 4,
 "nbformat_minor": 4
}
