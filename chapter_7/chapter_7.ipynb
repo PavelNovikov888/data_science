{
 "cells": [
  {
   "cell_type": "markdown",
   "metadata": {},
   "source": [
    "# 7. Сбор и хранение данных"
   ]
  },
  {
   "cell_type": "markdown",
   "metadata": {},
   "source": [
    "## 7.1. Работа с файлами формата csv и excel"
   ]
  },
  {
   "cell_type": "code",
   "execution_count": null,
   "metadata": {},
   "outputs": [],
   "source": [
    "# Подключение библиотеки pandas\n",
    "import pandas as pd\n",
    "\n",
    "# Применение метода read_csv\n",
    "df = pd.read_csv('iris.csv')\n",
    "# Сводная информация о таблице данных\n",
    "print(df.info())"
   ]
  },
  {
   "cell_type": "code",
   "execution_count": null,
   "metadata": {},
   "outputs": [],
   "source": [
    "import pandas as pd\n",
    "# Загрузка определённых столбцов из таблицы, id – индексный столбец\n",
    "\n",
    "df = pd.read_csv('iris.csv', usecols = ['id', 'sepal_len', 'sepal_wd'], index_col = ['id'], skiprows = 0, nrows = 50)\n",
    "\n",
    "# Срез данных: первые 6 строк и 3 столбца\n",
    "df_reject = df.loc[:5, :]\n",
    "print(df_reject)\n",
    "\n",
    "# Сохранение нового файла iris_rej.csv, разделитель ','\n",
    "df_reject.to_csv('iris_rej.csv', sep = ',')"
   ]
  },
  {
   "cell_type": "code",
   "execution_count": null,
   "metadata": {},
   "outputs": [],
   "source": [
    "import pandas as pd\n",
    "# Подключение библиотеки для работы с xlsx\n",
    "import openpyxl\n",
    "# Загрузка определённых столбцов из таблицы\n",
    "df = pd.read_csv('iris.csv', usecols = ['id', 'sepal_len', 'sepal_wd'])\n",
    "\n",
    "# Срез данных: первые 6 строк и 3 столбца\n",
    "df_reject = df.loc[:5, :]\n",
    "print(df_reject)\n",
    "\n",
    "df_reject.to_excel('iris.xlsx', startrow=0, startcol=0, sheet_name = 'Книга1)\n"
   ]
  },
  {
   "cell_type": "markdown",
   "metadata": {},
   "source": [
    "## 7.2. Работа с файлами формата txt"
   ]
  },
  {
   "cell_type": "code",
   "execution_count": null,
   "metadata": {},
   "outputs": [],
   "source": [
    "import pandas as pd\n",
    "\n",
    "df = pd.read_csv('iris.txt', sep = ',')\n",
    "# df = pd.read_table('iris.txt', sep = ',')\n",
    "\n",
    "# Срез данных: первые 6 строк и все столбцы\n",
    "df_reject = df.loc[:5, :]\n",
    "print(df_reject)\n",
    "\n",
    "df.to_csv('iris_rej.txt', sep='\\t', encoding='utf-8')"
   ]
  },
  {
   "cell_type": "markdown",
   "metadata": {},
   "source": [
    "## 7.3. Чтение и запись JSON-файлов"
   ]
  },
  {
   "cell_type": "code",
   "execution_count": null,
   "metadata": {},
   "outputs": [],
   "source": [
    "import pandas as pd\n",
    "import json\n",
    "\n",
    "df = pd.read_csv('iris.txt', sep = ',')\n",
    "\n",
    "# Срез данных: первые 6 строк и все столбцы\n",
    "df_reject = df.loc[:5, :]\n",
    "print(df_reject)\n",
    "\n",
    "df.to_json('iris.json')"
   ]
  },
  {
   "cell_type": "markdown",
   "metadata": {},
   "source": [
    "## 7.4. Чтение html-файлов из интернета, парсинг данных, API"
   ]
  },
  {
   "cell_type": "code",
   "execution_count": null,
   "metadata": {},
   "outputs": [],
   "source": [
    "import requests\n",
    "# Адрес запрашиваемой страницы\n",
    "URL = 'https://elteha.ru/index.php'\n",
    "\n",
    "# Сохранение запроса в переменную result\n",
    "result = requests.get(URL)\n",
    "\n",
    "# Проверка ответа сервера\n",
    "print(result.status_code)\n",
    "# Вывод результатв в консоль\n",
    "print(result.text)"
   ]
  },
  {
   "cell_type": "code",
   "execution_count": null,
   "metadata": {},
   "outputs": [],
   "source": [
    "import requests\n",
    "import re\n",
    "URL = 'https://elteha.ru/index.php'\n",
    "\n",
    "result = requests.get(URL).text\n",
    "\n",
    "# Поиск всех вхождений, удовлетворяющих условиям\n",
    "found_parts = re.findall('Проектирование[А-яA-z- ]+', result)\n",
    "print(len(found_parts))\n",
    "print(found_parts)"
   ]
  },
  {
   "cell_type": "code",
   "execution_count": null,
   "metadata": {},
   "outputs": [],
   "source": [
    "import pandas as pd\n",
    "import requests \n",
    "from bs4 import BeautifulSoup\n",
    "\n",
    "URL = 'https://elteha.ru/index.php'\n",
    "result = requests.get(URL).text\n",
    "soup = BeautifulSoup(result, 'lxml')\n",
    "\n",
    "head_title = []\n",
    "for row in soup.find_all('p', attrs = {'class':'top_text_1'}):\n",
    "    head_title.append(row.text)\n",
    "\n",
    "foot_title = []\n",
    "for row in soup.find_all('p', attrs = {'class':'bottom_text_1'}):\n",
    "    foot_title.append(row.text)\n",
    "\n",
    "data = pd.DataFrame({'head-title': head_title,'foot-title': foot_title,})\n",
    "print(data.head(5))"
   ]
  },
  {
   "cell_type": "code",
   "execution_count": null,
   "metadata": {},
   "outputs": [],
   "source": [
    "import requests\n",
    "import json\n",
    "\n",
    "BASE_URL = 'http://api.openweathermap.org/data/2.5/weather'\n",
    "\n",
    "s_city = 'Saratov, RU'\n",
    "appid = 'e9e0185f6cdf9bcb75dd543cb70738d7'\n",
    "\n",
    "params = {'q': s_city, 'units': 'metric', 'APPID': appid}\n",
    "\n",
    "response = requests.get(BASE_URL, params = params)\n",
    "response_parsed = json.loads(response.text)\n",
    "\n",
    "temp = response_parsed['main']['temp']\n",
    "humidity = response_parsed['main']['humidity']\n",
    "\n",
    "print('Погода в Саратове: температура t = {} градусов, влажность H = {}%'. format(temp, humidity))"
   ]
  },
  {
   "cell_type": "markdown",
   "metadata": {},
   "source": [
    "## 7.5. Чтение из базы данных SQL, запись в базу данных SQL"
   ]
  },
  {
   "cell_type": "markdown",
   "metadata": {},
   "source": [
    "### 1. Создание базы данных в DB Browser for SQLite"
   ]
  },
  {
   "cell_type": "markdown",
   "metadata": {},
   "source": [
    "### 2. Создание программы для подключения к базе данных"
   ]
  },
  {
   "cell_type": "code",
   "execution_count": null,
   "metadata": {},
   "outputs": [],
   "source": [
    "import pandas as pd\n",
    "import sqlite3\n",
    "\n",
    "df = pd.read_csv('iris.csv')\n",
    "\n",
    "# Подключение к базе данных\n",
    "connection = sqlite3.connect('iris_db.sqlite3')\n",
    "\n",
    "# Отправка данных DataFrame в базу (таблица создаётся автоматически)\n",
    "df.to_sql('iris_table', connection, if_exists=\"append\")\n",
    "\n",
    "# Подтверждение отправки данных и закрытие соединения.\n",
    "connection.commit()\n",
    "connection.close()"
   ]
  },
  {
   "cell_type": "markdown",
   "metadata": {},
   "source": [
    "### 3. Чтение данных из базы"
   ]
  },
  {
   "cell_type": "code",
   "execution_count": null,
   "metadata": {},
   "outputs": [],
   "source": [
    "import pandas as pd\n",
    "import sqlite3\n",
    "\n",
    "# Подключение к базе данных\n",
    "connection = sqlite3.connect('iris_db.sqlite3')\n",
    "\n",
    "# Чтение всего * содержимого из таблицы iris_table\n",
    "iris_table = pd.read_sql('SELECT * FROM iris_table',\n",
    "                                connection, index_col = 'index')\n",
    "connection.close()\n",
    "\n",
    "print(iris_table[:5])"
   ]
  },
  {
   "cell_type": "code",
   "execution_count": null,
   "metadata": {},
   "outputs": [],
   "source": [
    "import pandas as pd\n",
    "import sqlite3\n",
    "\n",
    "connection = sqlite3.connect('iris_db.sqlite3')\n",
    "\n",
    "# Чтение данных по условию sepal_len > 5 AND species='iris-setosa'\n",
    "query = \"SELECT * FROM iris_table WHERE sepal_len > 5 AND species='iris-setosa'\"\n",
    "\n",
    "iris_table = pd.read_sql(query, connection, index_col = 'index')\n",
    "connection.close()\n",
    "\n",
    "print(iris_table[:10])"
   ]
  },
  {
   "cell_type": "markdown",
   "metadata": {},
   "source": [
    "# 7.6. Операторы для работы с базой данных в библиотеке sqlite3"
   ]
  },
  {
   "cell_type": "code",
   "execution_count": null,
   "metadata": {},
   "outputs": [],
   "source": [
    "import sqlite3 as sq\n",
    "\n",
    "# Соединение с базой данных db\n",
    "con = sq.connect(\"db.sqlite3\")\n",
    "\n",
    "# Создание курсора (объекта для работы с БД)\n",
    "cur = con.cursor()\n",
    "\n",
    "# Создание новой таблицы\n",
    "cur.executescript(\"\"\"CREATE TABLE IF NOT EXISTS fruit (\n",
    "            fruit_id INTEGER PRIMARY KEY AUTOINCREMENT,\n",
    "            fruit TEXT,\n",
    "            price INTEGER)\n",
    "    \"\"\")\n",
    "# Закрытие соединения\n",
    "con.commit()\n",
    "con.close()"
   ]
  },
  {
   "cell_type": "code",
   "execution_count": null,
   "metadata": {},
   "outputs": [],
   "source": [
    "import sqlite3 as sq\n",
    "\n",
    "# Данные о фруктах\n",
    "fruit = [\n",
    "    ('Apple', 1.5),\n",
    "    ('Orange', 2.0),\n",
    "    ('Banana', 1.7),\n",
    "    ('Peach', 1.0),\n",
    "    ('Grape', 2.5)\n",
    "]\n",
    "\n",
    "con = sq.connect(\"db.sqlite3\")\n",
    "cur = con.cursor()\n",
    "\n",
    "# Вставка данных в таблицу\n",
    "cur.executemany(\"INSERT INTO fruit VALUES(NULL,?,?)\", fruit)\n",
    "\n",
    "con.commit()\n",
    "con.close()"
   ]
  },
  {
   "cell_type": "code",
   "execution_count": null,
   "metadata": {},
   "outputs": [],
   "source": [
    "import sqlite3 as sq\n",
    "\n",
    "con = sq.connect(\"db.sqlite3\")\n",
    "cur = con.cursor()\n",
    "\n",
    "# Чтение всех данных из таблицы fruit\n",
    "cur.execute(\"SELECT fruit, price FROM fruit\")\n",
    "\n",
    "# rows = cur.fetchall() – вывод всех данных\n",
    "# rows = cur.fetchone() – вывод одного значения\n",
    "# rows = cur.fetchmany(4) – вывод 4 значений\n",
    "\n",
    "print(rows)\n",
    "\n",
    "con.commit()\n",
    "con.close()"
   ]
  },
  {
   "cell_type": "code",
   "execution_count": null,
   "metadata": {},
   "outputs": [],
   "source": [
    "import sqlite3 as sq\n",
    "\n",
    "con = sq.connect(\"db.sqlite3\")\n",
    "cur = con.cursor()\n",
    "\n",
    "# Удаление данных из таблицы с id = 3\n",
    "cur.execute(\"DELETE FROM fruit WHERE fruit_id = 3\")\n",
    "\n",
    "# Обновим данных в таблице с id = 1\n",
    "cur.execute(\"UPDATE fruit SET price = 2.2 WHERE fruit_id = 1\")\n",
    "\n",
    "con.commit()\n",
    "con.close()"
   ]
  },
  {
   "cell_type": "markdown",
   "metadata": {},
   "source": [
    "# 7.7. Представление результатов в Jupyter Notebook – IPython"
   ]
  },
  {
   "cell_type": "code",
   "execution_count": null,
   "metadata": {},
   "outputs": [],
   "source": [
    "pip3 install jupyter # Для Python 3"
   ]
  },
  {
   "cell_type": "code",
   "execution_count": null,
   "metadata": {},
   "outputs": [],
   "source": [
    "jupyter notebook # Запуск приложения"
   ]
  },
  {
   "cell_type": "markdown",
   "metadata": {},
   "source": [
    "# 7.8. Редактор кода Visual Studio Code"
   ]
  },
  {
   "cell_type": "code",
   "execution_count": null,
   "metadata": {},
   "outputs": [],
   "source": [
    "# Создание виртуального окружения, venv - название вс\n",
    "python -m venv venv\n",
    "\n",
    "# Активация рабочей среды \n",
    "venv\\scripts\\activate    # для Windows\n",
    "source venv/bin/activate # для Linux\n",
    "\n",
    "# Деактивация рабочей среды \n",
    "venv\\scripts\\deactivate\n",
    "\n",
    "# https://medium.com/@ph1l74/python-venv-на-windows-10-2118ad685b1"
   ]
  },
  {
   "cell_type": "markdown",
   "metadata": {},
   "source": [
    "## 7.9. Система контроля версий git"
   ]
  },
  {
   "cell_type": "markdown",
   "metadata": {},
   "source": [
    "### 1. Установка и настройка системы контроля версий git."
   ]
  },
  {
   "cell_type": "code",
   "execution_count": null,
   "metadata": {},
   "outputs": [],
   "source": [
    "$ git config --list --show-origin"
   ]
  },
  {
   "cell_type": "code",
   "execution_count": null,
   "metadata": {},
   "outputs": [],
   "source": [
    "# Имя пользователя\n",
    "$ git config --global user.name \"John Doe\"\n",
    "\n",
    "# Адрес электронной почты пользователя\n",
    "$ git config --global user.email johndoe@example.com"
   ]
  },
  {
   "cell_type": "code",
   "execution_count": null,
   "metadata": {},
   "outputs": [],
   "source": [
    "# Для инициализации ветки master по умолчанию\n",
    "$ git init\n",
    "\n",
    "# Для инициализации ветки main по умолчанию\n",
    "$ git config --global init.defaultBranch main"
   ]
  },
  {
   "cell_type": "code",
   "execution_count": null,
   "metadata": {},
   "outputs": [],
   "source": [
    "# Проверка установок\n",
    "$ git config –list"
   ]
  },
  {
   "cell_type": "code",
   "execution_count": null,
   "metadata": {},
   "outputs": [],
   "source": [
    "# Для Linux:\n",
    "$ cd /home/user/my_project\n",
    "\n",
    "# Для macOS:\n",
    "$ cd /Users/user/my_project\n",
    "\n",
    "# Для Windows:\n",
    "$ cd C:/Users/user/my_project\n",
    "\n",
    "$ git init\n",
    "\n",
    "# Последующий коммит файлов\n",
    "$ git add *.c\n",
    "$ git add LICENSE\n",
    "$ git commit -m 'Initial project version'"
   ]
  },
  {
   "cell_type": "code",
   "execution_count": null,
   "metadata": {},
   "outputs": [],
   "source": [
    "# Копирование удалённого репозитория\n",
    "# url в формате https://\n",
    "$ git сlone <url>"
   ]
  },
  {
   "cell_type": "markdown",
   "metadata": {},
   "source": [
    "### 2. Создание аккаунта и удалённого репозитория на сайте github.com."
   ]
  },
  {
   "cell_type": "markdown",
   "metadata": {},
   "source": [
    "### 3. Подключение к репозиторию с помощью программы VS Code."
   ]
  },
  {
   "cell_type": "code",
   "execution_count": null,
   "metadata": {},
   "outputs": [],
   "source": [
    "# Инициализация репозитория на компьютере\n",
    "$ git init\n",
    "\n",
    "# Проверка состояния системы (на любом этапе)\n",
    "$ git status\n",
    "\n",
    "# Добавление индексируемых файлов\n",
    "$ git add *.c\n",
    "\n",
    "# Подготовка коммита и сообщения для отправки\n",
    "$ git commit -m 'Initial project version'\n",
    "\n",
    "# Отправка изменений и содержимого НА удалённый репозиторий\n",
    "$ git push\n",
    "\n",
    "# Извлечение и загрузка содержимого ИЗ удалённого репозитория\n",
    "$ git pull"
   ]
  },
  {
   "cell_type": "code",
   "execution_count": null,
   "metadata": {},
   "outputs": [],
   "source": [
    "# Инициализируем репозиторий на локальном компьютере\n",
    "$ git init\n",
    "\n",
    "# Клонируем удалённый репозиторий\n",
    "$ git clone https://github.com/mculab64/new_rep.git"
   ]
  },
  {
   "cell_type": "code",
   "execution_count": null,
   "metadata": {},
   "outputs": [],
   "source": [
    "# Индексирование файлов, атрибут –A позволит индексировать все файлы\n",
    "$ git add -A\n",
    "\n",
    "# Подготовка коммита и сообщения для отправки\n",
    "$ git commit -m 'Initial project version'\n",
    "\n",
    "# Отправка изменений и содержимого НА удалённый репозиторий\n",
    "$ git push"
   ]
  }
 ],
 "metadata": {
  "kernelspec": {
   "display_name": "Python 3",
   "language": "python",
   "name": "python3"
  },
  "language_info": {
   "codemirror_mode": {
    "name": "ipython",
    "version": 3
   },
   "file_extension": ".py",
   "mimetype": "text/x-python",
   "name": "python",
   "nbconvert_exporter": "python",
   "pygments_lexer": "ipython3",
   "version": "3.8.3"
  }
 },
 "nbformat": 4,
 "nbformat_minor": 4
}
