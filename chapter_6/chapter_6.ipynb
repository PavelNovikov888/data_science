{
 "cells": [
  {
   "cell_type": "markdown",
   "metadata": {},
   "source": [
    "## 6. Исследовательский анализ данных и машинное обучение"
   ]
  },
  {
   "cell_type": "markdown",
   "metadata": {},
   "source": [
    "## 6.1. Проверка мультиколлинеарности и отбор признаков"
   ]
  },
  {
   "cell_type": "code",
   "execution_count": null,
   "metadata": {},
   "outputs": [],
   "source": [
    "import pandas as pd\n",
    "import seaborn as sns\n",
    "iris = pd.read_csv('iris.csv')\n",
    "\n",
    "print(iris['species'].value_counts())\n",
    "\n",
    "import pandas as pd\n",
    "import seaborn as sns\n",
    "import matplotlib.pyplot as plt\n",
    "\n",
    "iris = pd.read_csv('iris.csv')\n",
    "\n",
    "plt.rcParams['figure.figsize'] = (10,10)\n",
    "sns.heatmap(iris.drop(['species'], axis=1).corr(), annot=True)\n",
    "plt.show()"
   ]
  },
  {
   "cell_type": "code",
   "execution_count": null,
   "metadata": {},
   "outputs": [],
   "source": [
    "import pandas as pd\n",
    "import seaborn as sns\n",
    "import matplotlib.pyplot as plt\n",
    "from itertools import compress\n",
    "from sklearn.feature_selection import SelectKBest, f_classif\n",
    "from sklearn.model_selection import train_test_split \n",
    "\n",
    "iris = pd.read_csv('iris.csv')\n",
    "\n",
    "X = iris.drop(['species'], axis=1)\n",
    "y = iris['species']\n",
    " \n",
    "X_train, X_test, y_train, y_test = train_test_split(X, y, stratify=y, random_state = 42, test_size = 0.33)\n",
    "skb = SelectKBest(f_classif, k=2).fit(X_train, y_train)\n",
    "mask = skb.get_support()\n",
    "name_col = X_train.columns.values\n",
    "result = list(compress(name_col, mask))\n",
    "score_skb = skb.scores_\n",
    "\n",
    "plt.bar(result, score_skb)\n",
    "plt.show()"
   ]
  },
  {
   "cell_type": "markdown",
   "metadata": {},
   "source": [
    "## 6.2. Регрессионный анализ"
   ]
  },
  {
   "cell_type": "code",
   "execution_count": null,
   "metadata": {},
   "outputs": [],
   "source": [
    "# Подключение класса LinearRegression из модуля scikit-learn\n",
    "from sklearn.linear_model import LinearRegression\n",
    "\n",
    "# Подключение train_test_split из модуля scikit-learn\n",
    "from sklearn.model_selection import train_test_split\n",
    "\n",
    "# Подключение библиотеки matplotlib\n",
    "import matplotlib.pyplot as plt\n",
    "\n",
    "# Подключение библиотек numpy и pandas\n",
    "import numpy as np\n",
    "import pandas as pd\n",
    "\n",
    "df = pd.read_excel('temp_around.xlsx')\n",
    "\n",
    "X = df[['temp_ground']] # строго двойные кв. скобки\n",
    "Y = df['temp_air']"
   ]
  },
  {
   "cell_type": "code",
   "execution_count": null,
   "metadata": {},
   "outputs": [],
   "source": [
    "# Разбиение данных на два подмножества: для обучения и тестирования (Train-Test Split)\n",
    "X_train, X_test, Y_train, Y_test = train_test_split(X, Y, test_size = 0.3, random_state=1)\n",
    "\n",
    "# STEP1 - создание экземпляра модели (Instantiating the Model)\n",
    "model = LinearRegression()\n",
    "\n",
    "# STEP2 - обучение модели (Fitting the Model)\n",
    "model.fit(X_train, Y_train)\n",
    "\n",
    "# STEP3 - расчёт коэффициентов линейной модели Y = intercept_ + coef_ * X\n",
    "print(model.intercept_.round(2))\n",
    "print(model.coef_.round(2))"
   ]
  },
  {
   "cell_type": "code",
   "execution_count": null,
   "metadata": {},
   "outputs": [],
   "source": [
    "# STEP4 - проверка модели на одном тестовом значении (Prediction)\n",
    "new_temp_ground = np.array([23.5]).reshape(-1,1) # необходим 2d или DataFrame\n",
    "print(model.predict(new_temp_ground))\n",
    "\n",
    "# STEP5 - проверка модели на множестве тестовых значений (оценка производительности)\n",
    "y_test_predicted = model.predict(X_test)\n",
    "print(y_test_predicted)"
   ]
  },
  {
   "cell_type": "code",
   "execution_count": null,
   "metadata": {},
   "outputs": [],
   "source": [
    "# STEP6 - среднеквадратическая ошибка (mean squared error (MSE) -> 0)\n",
    "residuals = Y_test - y_test_predicted\n",
    "print((residuals**2).mean())\n",
    "\n",
    "# STEP7 - нахождение R-квадрата (R-squared, 0-100%)\n",
    "# 1 - (residuals**2).sum() / ((Y_test-Y_test.mean())**2).sum()\n",
    "print(model.score(X_test, Y_test))"
   ]
  },
  {
   "cell_type": "code",
   "execution_count": null,
   "metadata": {},
   "outputs": [],
   "source": [
    "# STEP8 - графический анализ результатов (Residuals)\n",
    "plt.scatter(X_test, Y_test, label='Экспериментальные данные');\n",
    "plt.plot(X_test, y_test_predicted, label='Модель', linewidth=3)\n",
    "plt.xlabel('temp_ground'); plt.ylabel('temp_air')\n",
    "plt.legend(loc='upper left')\n",
    "plt.show()"
   ]
  },
  {
   "cell_type": "markdown",
   "metadata": {},
   "source": [
    "## 6.3. Классификация"
   ]
  },
  {
   "cell_type": "code",
   "execution_count": null,
   "metadata": {},
   "outputs": [],
   "source": [
    "import pandas as pd\n",
    "iris = pd.read_csv('iris.csv')\n",
    "\n",
    "print(iris['species'].value_counts())"
   ]
  },
  {
   "cell_type": "code",
   "execution_count": null,
   "metadata": {},
   "outputs": [],
   "source": [
    "import matplotlib.pyplot as plt\n",
    "import pandas as pd\n",
    "iris = pd.read_csv('iris.csv')\n",
    "\n",
    "# создадим цифровой код для каждого сорта\n",
    "inv_name_dict = {'iris-setosa': 0,\n",
    "                 'iris-versicolor': 1,\n",
    "                 'iris-virginica': 2}\n",
    "\n",
    "# создадим цифровой код для каждого цвета\n",
    "colors = [inv_name_dict[item] for item in iris['species']] \n",
    "\n",
    "scatter = plt.scatter(iris['sepal_len'], iris['sepal_wd'], c = colors)\n",
    "plt.xlabel('sepal length (cm)')\n",
    "plt.ylabel('sepal width (cm)')\n",
    "plt.legend(handles=scatter.legend_elements()[0],\n",
    "labels = inv_name_dict.keys())\n",
    "plt.show()"
   ]
  },
  {
   "cell_type": "code",
   "execution_count": null,
   "metadata": {},
   "outputs": [],
   "source": [
    "# Подключение библиотеки Pandas\n",
    "import pandas as pd\n",
    "iris = pd.read_csv('iris.csv')\n",
    "\n",
    "# Подключение train_test_split из модуля scikit-learn\n",
    "from sklearn.model_selection import train_test_split\n",
    "\n",
    "# Подключение neighbors из модуля scikit-learn\n",
    "from sklearn.neighbors import KNeighborsClassifier\n",
    "\n",
    "X = iris[['petal_len', 'petal_wd']] # строго двойные кв. скобки\n",
    "y = iris['species']\n",
    "\n",
    "# Разбиение данных на два подмножества: для обучения и тестирования (Train-Test Split)\n",
    "X_train, X_test, y_train, y_test = train_test_split(X, y, test_size=0.30, random_state=1, stratify=y)"
   ]
  },
  {
   "cell_type": "code",
   "execution_count": null,
   "metadata": {},
   "outputs": [],
   "source": [
    "# STEP1 - создание экземпляра модели (Instantiating the Model)\n",
    "# Кол-во соседних значений n = 5\n",
    "knn = KNeighborsClassifier(n_neighbors=5)\n",
    "\n",
    "# STEP2 - подгонка модели (Fitting the Model)\n",
    "knn.fit(X_train, y_train)\n",
    "\n",
    "# STEP3 - проверка модели на одном тестовом значении (Prediction)\n",
    "import numpy as np\n",
    "new_data = np.array([3.76, 1.20])\n",
    "new_data = new_data.reshape(1, -1)\n",
    "print(knn.predict(new_data))\n",
    "# STEP4 - проверка модели на множестве тестовых значений (Prediction)\n",
    "pred_X_test = knn.predict(X_test)\n",
    "print(pred_X_test)\n",
    "\n",
    "# STEP5 - вероятностное предсказание (Probability Prediction)\n",
    "y_pred_prob = knn.predict_proba(X_test)\n",
    "print(y_pred_prob[10:12])\n",
    "\n",
    "# STEP6 - проверка точности модели\n",
    "print(knn.score(X_test, y_test))\n",
    "\n",
    "# STEP7 - построение матрицы неточностей и метрик precision, recall, F-мера\n",
    "y_pred = knn.predict(X_test)\n",
    "\n",
    "from sklearn.metrics import classification_report\n",
    "report = classification_report(y_test, y_pred)\n",
    "print(report)\n",
    "\n",
    "from sklearn.metrics import confusion_matrix \n",
    "print(confusion_matrix(y_test, y_pred))"
   ]
  },
  {
   "cell_type": "code",
   "execution_count": null,
   "metadata": {},
   "outputs": [],
   "source": [
    "# STEP8 - перекрёстная проверка (K-fold Cross Validation)\n",
    "from sklearn.model_selection import cross_val_score\n",
    "\n",
    "knn_cv = KNeighborsClassifier(n_neighbors=3)\n",
    "# 5-fold cv\n",
    "cv_scores = cross_val_score(knn_cv, X, y, cv=5)\n",
    "# print each cv score (accuracy)\n",
    "print(cv_scores)\n",
    "print(cv_scores.mean())\n",
    "\n",
    "# STEP9 - перекрёстная проверка (K-fold Cross Validation с GridSearchCV)\n",
    "from sklearn.model_selection import GridSearchCV\n",
    "# Создание нового экземпляра модели (Instantiating the Model)\n",
    "knn2 = KNeighborsClassifier()\n",
    "# Создание словаря с разными параметрами соседних значений\n",
    "param_grid = {'n_neighbors': np.arange(2, 10)}\n",
    "# Анализ всех n_neighbors при 5-кратной перекрёстной проверке\n",
    "# Обычно используют 5-ти или 10-кратную перекрёстную проверку\n",
    "knn_gscv = GridSearchCV(knn2, param_grid, cv=5)\n",
    "# Подгонка модели и вывод лучшего n_neighbors\n",
    "knn_gscv.fit(X, y)\n",
    "print(knn_gscv.best_params_) "
   ]
  },
  {
   "cell_type": "markdown",
   "metadata": {},
   "source": [
    "## 6.4. Деревья решений"
   ]
  },
  {
   "cell_type": "code",
   "execution_count": null,
   "metadata": {},
   "outputs": [],
   "source": [
    "# Подключение библиотеки Pandas\n",
    "import pandas as pd\n",
    "# Подключение библиотеки sklearn\n",
    "from sklearn import tree\n",
    "# Использование модели классификации в деревьях решений\n",
    "from sklearn.tree import DecisionTreeClassifier\n",
    "\n",
    "df = pd.read_csv('weather.csv')\n",
    "\n",
    "# rename и map() позволяют преобразовать категориальные признаки в числа\n",
    "rename = {'rain': 1, 'sunny': 0}\n",
    "# целевая переменная\n",
    "df['rainfall'] = df['rainfall'].map(rename)\n",
    "\n",
    "# переменные для построения модели\n",
    "features = ['temp', 'press', 'wind', 'humidity', 'temp_water']\n",
    "\n",
    "X = df[features]\n",
    "y = df['rainfall']\n",
    "\n",
    "# создание экземпляра класса (Instantiating the Model)\n",
    "dtree = DecisionTreeClassifier()\n",
    "\n",
    "# подгонка модели (Fitting the Model)\n",
    "dtree = dtree.fit(X, y)\n",
    "\n",
    "# предсказание модели (Prediction)\n",
    "X_new = [15, 750, 4.3, 63, 14]\n",
    "print(dtree.predict([X_new]))\n",
    "\n",
    "# если [1] – будет дождь, если [0] – будет солнечная погода\n",
    "print(\"[1] rain\")\n",
    "print(\"[0] sunny\")"
   ]
  },
  {
   "cell_type": "code",
   "execution_count": null,
   "metadata": {},
   "outputs": [],
   "source": [
    "# Подключение библиотеки Pandas\n",
    "import pandas as pd\n",
    "# Подключение библиотеки sklearn\n",
    "from sklearn import tree\n",
    "# Использование модели классификации в деревьях решений\n",
    "from sklearn.tree import DecisionTreeClassifier\n",
    "\n",
    "# Библиотеки для построения графика\n",
    "import pydotplus\n",
    "import matplotlib.pyplot as plt\n",
    "import matplotlib.image as pltimg\n",
    "\n",
    "df = pd.read_csv('weather.csv')\n",
    "\n",
    "# rename и map() позволяют преобразовать категориальные признаки в числа\n",
    "rename = {'rain': 1, 'sunny': 0}\n",
    "# целевая переменная\n",
    "df['rainfall'] = df['rainfall'].map(rename)\n",
    "\n",
    "# переменные для построения модели\n",
    "features = ['temp', 'press', 'wind', 'humidity', 'temp_water']\n",
    "\n",
    "X = df[features]\n",
    "y = df['rainfall']\n",
    "\n",
    "# создание экземпляра класса (Instantiating the Model)\n",
    "dtree = DecisionTreeClassifier()\n",
    "\n",
    "# подгонка модели (Fitting the Model)\n",
    "dtree = dtree.fit(X, y)\n",
    "\n",
    "# построение графика и создание изображения\n",
    "data = tree.export_graphviz(dtree, out_file=None, feature_names=features)\n",
    "graph = pydotplus.graph_from_dot_data(data)\n",
    "graph.write_png('decisiontree.png')\n",
    "\n",
    "# вывод графика на экран\n",
    "img=pltimg.imread('decisiontree.png')\n",
    "imgplot = plt.imshow(img)\n",
    "plt.show()"
   ]
  },
  {
   "cell_type": "markdown",
   "metadata": {},
   "source": [
    "## 6.5. Нейронные сети"
   ]
  },
  {
   "cell_type": "code",
   "execution_count": null,
   "metadata": {},
   "outputs": [],
   "source": [
    "from sklearn.neural_network import MLPClassifier\n",
    "from sklearn.preprocessing import StandardScaler\n",
    "from sklearn.model_selection import train_test_split\n",
    "import pandas as pd\n",
    "import numpy as np\n",
    "\n",
    "iris = pd.read_csv('iris.csv')\n",
    "\n",
    "X = iris[['petal_len', 'petal_wd', 'sepal_len', 'sepal_wd']] # строго двойные кв. скобки\n",
    "y = iris['species']\n",
    "\n",
    "X_train, X_test, y_train, y_test = train_test_split(X, y, test_size=0.30, random_state=1, stratify=y)\n",
    "\n",
    "clf = MLPClassifier(solver = 'lbfgs', alpha=1e-5, max_iter = 1000, random_state = 0)\n",
    "\n",
    "scale = StandardScaler()\n",
    "clf = clf.fit(X_train, y_train)\n",
    "\n",
    "X_test_scaled = scale.fit_transform(X_test)\n",
    "\n",
    "print('prediction: ', clf.predict(X_test_scaled))\n",
    "print(clf.score(X_test_scaled, y_test).round(2))"
   ]
  },
  {
   "cell_type": "markdown",
   "metadata": {},
   "source": [
    "## 6.6. Кластеризация"
   ]
  },
  {
   "cell_type": "code",
   "execution_count": null,
   "metadata": {},
   "outputs": [],
   "source": [
    "import numpy as np\n",
    "\n",
    "x1 = np.array([0, 2])\n",
    "x2 = np.array([4, 0])\n",
    "result = np.sqrt(((x1-x2)**2).sum())\n",
    "print(np.sqrt(result).round(2))"
   ]
  },
  {
   "cell_type": "markdown",
   "metadata": {},
   "source": [
    "### 1. Загрузка данных. Предварительный анализ."
   ]
  },
  {
   "cell_type": "code",
   "execution_count": null,
   "metadata": {},
   "outputs": [],
   "source": [
    "import numpy as np\n",
    "import pandas as pd\n",
    "from sklearn.datasets import load_wine\n",
    "\n",
    "data = load_wine()\n",
    "wine = pd.DataFrame(data.data, columns=data.feature_names)\n",
    "print(wine.shape)\n",
    "print(wine.columns)"
   ]
  },
  {
   "cell_type": "markdown",
   "metadata": {},
   "source": [
    "### 2. Графическое представление данных."
   ]
  },
  {
   "cell_type": "code",
   "execution_count": null,
   "metadata": {},
   "outputs": [],
   "source": [
    "import matplotlib.pyplot as plt\n",
    "import numpy as np\n",
    "import pandas as pd\n",
    "from sklearn.datasets import load_wine\n",
    "from pandas.plotting import scatter_matrix\n",
    "\n",
    "data = load_wine()\n",
    "wine = pd.DataFrame(data.data, columns=data.feature_names)\n",
    "scatter_matrix(wine.iloc[:,[0,5]])\n",
    "plt.show()"
   ]
  },
  {
   "cell_type": "markdown",
   "metadata": {},
   "source": [
    "### 3. Стандартизация. Масштабирование."
   ]
  },
  {
   "cell_type": "code",
   "execution_count": null,
   "metadata": {},
   "outputs": [],
   "source": [
    "import numpy as np\n",
    "import pandas as pd\n",
    "from sklearn.datasets import load_wine\n",
    "\n",
    "data = load_wine()\n",
    "wine = pd.DataFrame(data.data, columns=data.feature_names)\n",
    "\n",
    "X = wine[['alcohol', 'total_phenols']] \n",
    "\n",
    "from sklearn.preprocessing import StandardScaler\n",
    "scale = StandardScaler()\n",
    "scale.fit(X)\n",
    "\n",
    "print(scale.mean_)\n",
    "print(scale.scale_)\n",
    "\n",
    "X_scaled = scale.transform(X)\n",
    "print(X_scaled.mean(axis=0))\n",
    "print(X_scaled.std(axis=0))"
   ]
  },
  {
   "cell_type": "code",
   "execution_count": null,
   "metadata": {},
   "outputs": [],
   "source": [
    "import pandas as pd\n",
    "from sklearn.datasets import load_wine\n",
    "from sklearn.preprocessing import StandardScaler\n",
    "\n",
    "data = load_wine()\n",
    "wine = pd.DataFrame(data.data, columns=data.feature_names)\n",
    "\n",
    "X = wine[['alcohol', 'total_phenols']]\n",
    "\n",
    "scale = StandardScaler()\n",
    "scale.fit(X)\n",
    "X_scaled = scale.transform(X)\n",
    "\n",
    "from sklearn.cluster import KMeans\n",
    "# Создание нового экземпляра модели (Instantiating the Model)\n",
    "kmeans = KMeans(n_clusters=3)\n",
    "# Обучение модели (Fitting the Model)\n",
    "kmeans.fit(X_scaled)\n",
    "# Проверка модели (Prediction)\n",
    "y_pred = kmeans.predict(X_scaled)\n",
    "print(y_pred)\n",
    "\n",
    "# Предсказание на одном образце\n",
    "X_new = np.array([[13, 2.5]])\n",
    "X_new_scaled = scale.transform(X_new)\n",
    "\n",
    "print(kmeans.predict(X_new_scaled))"
   ]
  },
  {
   "cell_type": "markdown",
   "metadata": {},
   "source": [
    "### 4. Оптимизация количества кластеров."
   ]
  },
  {
   "cell_type": "code",
   "execution_count": null,
   "metadata": {},
   "outputs": [],
   "source": [
    "import pandas as pd\n",
    "import matplotlib.pyplot as plt\n",
    "from sklearn.datasets import load_wine\n",
    "from sklearn.preprocessing import StandardScaler\n",
    "from sklearn.cluster import KMeans\n",
    "\n",
    "data = load_wine()\n",
    "wine = pd.DataFrame(data.data, columns=data.feature_names)\n",
    "\n",
    "X = wine[['alcohol', 'total_phenols']]\n",
    "\n",
    "scale = StandardScaler()\n",
    "scale.fit(X)\n",
    "X_scaled = scale.transform(X)\n",
    "\n",
    "kmeans = KMeans(n_clusters=3)\n",
    "kmeans.fit(X_scaled)\n",
    "print(kmeans.inertia_)\n",
    "\n",
    "import numpy as np\n",
    "# Вычисление инерции при разном кол-ве кластеров\n",
    "inertia = []\n",
    "for i in np.arange(1, 11):\n",
    "    km = KMeans(\n",
    "        n_clusters=i\n",
    "    )\n",
    "    km.fit(X_scaled)\n",
    "    inertia.append(km.inertia_)\n",
    "\n",
    "plt.plot(np.arange(1, 11), inertia, marker='o')\n",
    "plt.xlabel('Number of clusters')\n",
    "plt.ylabel('Inertia')\n",
    "plt.show()"
   ]
  }
 ],
 "metadata": {
  "kernelspec": {
   "display_name": "Python 3",
   "language": "python",
   "name": "python3"
  },
  "language_info": {
   "codemirror_mode": {
    "name": "ipython",
    "version": 3
   },
   "file_extension": ".py",
   "mimetype": "text/x-python",
   "name": "python",
   "nbconvert_exporter": "python",
   "pygments_lexer": "ipython3",
   "version": "3.8.3"
  }
 },
 "nbformat": 4,
 "nbformat_minor": 4
}
