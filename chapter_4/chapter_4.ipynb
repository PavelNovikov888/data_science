{
 "cells": [
  {
   "cell_type": "markdown",
   "metadata": {},
   "source": [
    "# 4. Статистический анализ данных"
   ]
  },
  {
   "cell_type": "markdown",
   "metadata": {},
   "source": [
    "## 4.1. Среднее значение, медиана, мода и диапазон"
   ]
  },
  {
   "cell_type": "code",
   "execution_count": null,
   "metadata": {},
   "outputs": [],
   "source": [
    "# Нахождение среднего средствами numpy\n",
    "import numpy as np\n",
    "\n",
    "nums = [1, 2, 3, 4, 5, 6, 7, 8, 9, 10]\n",
    "nums_arr = np.array(nums)\n",
    "\n",
    "print(np.mean(nums))\n",
    "\n",
    "# Нахождение среднего средствами pandas\n",
    "import pandas as pd\n",
    "\n",
    "data = {'nums':[1, 2, 3, 4, 5, 6, 7, 8, 9, 10]}\n",
    "df = pd.DataFrame(data)\n",
    "\n",
    "print(df['nums'].mean())"
   ]
  },
  {
   "cell_type": "code",
   "execution_count": null,
   "metadata": {},
   "outputs": [],
   "source": [
    "# Нахождение медианы средствами numpy\n",
    "import numpy as np\n",
    "\n",
    "nums = [1, 2, 3, 4, 5, 6, 7, 8, 9, 10]\n",
    "nums_arr = np.array(nums)\n",
    "\n",
    "print(np.median(nums))\n",
    "\n",
    "# Нахождение медианы средствами pandas\n",
    "import pandas as pd\n",
    "\n",
    "data = {'nums':[1, 2, 3, 4, 5, 6, 7, 8, 9, 10]}\n",
    "df = pd.DataFrame(data)\n",
    "\n",
    "print(df['nums'].median())"
   ]
  },
  {
   "cell_type": "code",
   "execution_count": null,
   "metadata": {},
   "outputs": [],
   "source": [
    "# Нахождение моды средствами stats\n",
    "from scipy import stats\n",
    "\n",
    "data = [2, 2, 5, 4, 2, 6, 7, 8, 9, 5]\n",
    "\n",
    "print(stats.mode(data))\n"
   ]
  },
  {
   "cell_type": "code",
   "execution_count": null,
   "metadata": {},
   "outputs": [],
   "source": [
    "# Нахождение min, max средствами numpy\n",
    "import numpy as np\n",
    "\n",
    "nums = [2, 2, 5, 4, 2, 6, 7, 8, 9, 5]\n",
    "nums_arr = np.array(nums)\n",
    "\n",
    "print(np.min(nums))\n",
    "print(np.max(nums))\n",
    "\n",
    "# Нахождение min, max средствами pandas\n",
    "import pandas as pd\n",
    "\n",
    "data = {'nums':[2, 2, 5, 4, 2, 6, 7, 8, 9, 5]}\n",
    "df = pd.DataFrame(data)\n",
    "\n",
    "print(df['nums'].min())\n",
    "print(df['nums'].max())"
   ]
  },
  {
   "cell_type": "code",
   "execution_count": null,
   "metadata": {},
   "outputs": [],
   "source": [
    "import pandas as pd\n",
    "\n",
    "data = {'nums':[2, 2, 5, 4, 2, 6, 7, 8, 9, 5]}\n",
    "df = pd.DataFrame(data)\n",
    "\n",
    "# Деление на квартили\n",
    "print(df['nums'].quantile([0.25, 0.5, 0.75, 1]))"
   ]
  },
  {
   "cell_type": "markdown",
   "metadata": {},
   "source": [
    "## 4.2. Элементы теории вероятности: дисперсия и стандартное отклонение"
   ]
  },
  {
   "cell_type": "code",
   "execution_count": null,
   "metadata": {},
   "outputs": [],
   "source": [
    "import numpy as np\n",
    "\n",
    "nums = [2, 2, 5, 4, 2, 6, 7, 8, 9, 5]\n",
    "\n",
    "print(np.var(nums))\n",
    "print(np.std(nums))"
   ]
  },
  {
   "cell_type": "code",
   "execution_count": null,
   "metadata": {},
   "outputs": [],
   "source": [
    "import pandas as pd\n",
    "\n",
    "data = {'nums':[2, 2, 5, 4, 2, 6, 7, 8, 9, 5]}\n",
    "df = pd.DataFrame(data)\n",
    "\n",
    "print(df['nums'].describe())"
   ]
  },
  {
   "cell_type": "code",
   "execution_count": null,
   "metadata": {},
   "outputs": [],
   "source": [
    "import pandas as pd\n",
    "\n",
    "data = {'nums':['one', 'two', 'three', 'two', 'one', 'three', 'two', 'one', 'two']}\n",
    "df = pd.DataFrame(data)\n",
    "\n",
    "print(df['nums'].value_counts())"
   ]
  },
  {
   "cell_type": "markdown",
   "metadata": {},
   "source": [
    "## 4.3. Группировка и агрегирование данных"
   ]
  },
  {
   "cell_type": "code",
   "execution_count": null,
   "metadata": {},
   "outputs": [],
   "source": [
    "import pandas as pd\n",
    "\n",
    "data = {'human':['man', 'woman', 'man', 'man', 'woman', 'man', 'woman', 'man', 'man'],\n",
    "        'height':[178, 165, 190, 174, 160, 180, 170, 182, 170],\n",
    "        'weight':[70, 60, 90, 67, 58, 75, 65, 80, 65]}\n",
    "\n",
    "df = pd.DataFrame(data)\n",
    "\n",
    "print(df.groupby('human'))\n",
    "print(df.groupby('human').mean())"
   ]
  },
  {
   "cell_type": "code",
   "execution_count": null,
   "metadata": {},
   "outputs": [],
   "source": [
    "import pandas as pd\n",
    "import numpy as np\n",
    "\n",
    "data = {'human':['man', 'woman', 'man', 'man', 'woman', 'man', 'woman', 'man', 'man'],\n",
    "        'height':[178, 165, 190, 174, 160, 180, 170, 182, 170],\n",
    "        'weight':[70, 60, 90, 67, 58, 75, 65, 80, 65]}\n",
    "\n",
    "df = pd.DataFrame(data)\n",
    "\n",
    "print(df.groupby('human')['height'].agg([min, np.median, max]))\n",
    "print(df.groupby('human')['weight'].agg([min, np.median, max]))\n"
   ]
  },
  {
   "cell_type": "markdown",
   "metadata": {},
   "source": [
    "## 4.4. Взаимосвязь данных"
   ]
  },
  {
   "cell_type": "code",
   "execution_count": null,
   "metadata": {},
   "outputs": [],
   "source": [
    "import matplotlib.pyplot as plt\n",
    "import pandas as pd\n",
    "\n",
    "data = {'human':['man', 'woman', 'man', 'man', 'woman', 'man', 'woman', 'man', 'man'],\n",
    "        'height':[178, 165, 190, 174, 160, 180, 170, 182, 170],\n",
    "        'weight':[70, 60, 90, 67, 58, 75, 65, 80, 65]}\n",
    "\n",
    "df = pd.DataFrame(data)\n",
    "plt.scatter(df['height'], df['weight'] , alpha = 0.8)\n",
    "# df.plot(x = 'weight', y = 'height', kind='scatter', grid=True)\n",
    "plt.show()"
   ]
  },
  {
   "cell_type": "code",
   "execution_count": null,
   "metadata": {},
   "outputs": [],
   "source": [
    "import matplotlib.pyplot as plt\n",
    "import pandas as pd\n",
    "\n",
    "data = {'human':['man', 'woman', 'man', 'man', 'woman', 'man', 'woman', 'man', 'man'],\n",
    "        'height':[178, 165, 190, 174, 160, 180, 170, 182, 170],\n",
    "        'weight':[70, 60, 90, 67, 58, 75, 65, 80, 65]}\n",
    "\n",
    "print(df['height'].corr(df['weight'])) # 0.970201081860922\n",
    "print(df['weight'].corr(df['height'])) # 0.970201081860922\n"
   ]
  },
  {
   "cell_type": "code",
   "execution_count": null,
   "metadata": {},
   "outputs": [],
   "source": [
    "import matplotlib.pyplot as plt\n",
    "import pandas as pd\n",
    "\n",
    "data = {'height':[178, 165, 190, 174, 160, 180, 170, 182, 170],\n",
    "        'weight':[70, 60, 90, 67, 58, 75, 65, 80, 65],\n",
    "        'sex':[1, 2, 1, 1, 2, 1, 2, 1, 2]}\n",
    "\n",
    "df = pd.DataFrame(data)\n",
    "\n",
    "pd.plotting.scatter_matrix(df, alpha = 0.8)\n",
    "print(df.corr())\n",
    "plt.show()"
   ]
  },
  {
   "cell_type": "markdown",
   "metadata": {},
   "source": [
    "## 4.5. Проверка гипотезы"
   ]
  },
  {
   "cell_type": "code",
   "execution_count": null,
   "metadata": {},
   "outputs": [],
   "source": [
    "from scipy import stats as st\n",
    "import pandas as pd\n",
    "\n",
    "data = {'height':[178, 165, 190, 174, 160, 180, 170, 182, 170, 176, 154, 167, 187, 192, 160, 156, 154, 188, 178]}\n",
    "\n",
    "df = pd.DataFrame(data)\n",
    "  \n",
    "inter_value = 182    # предполагаемый средний рост\n",
    "alpha = .05          # критический уровень статистической значимости 5%\n",
    "    \n",
    "results = st.ttest_1samp(data['height'], inter_value)\n",
    "print('p-значение: ', results.pvalue)\n",
    "    \n",
    "if (results.pvalue < alpha):\n",
    "    print('Отвергаем гипотезу H0')\n",
    "else:\n",
    "    print('Нельзя отвергнуть гипотезу H0')\n",
    "\n",
    "mean_value = df.mean(axis = 0)\n",
    "\n",
    "print('Средний рост: ', mean_value.round(2))"
   ]
  }
 ],
 "metadata": {
  "kernelspec": {
   "display_name": "Python 3",
   "language": "python",
   "name": "python3"
  },
  "language_info": {
   "codemirror_mode": {
    "name": "ipython",
    "version": 3
   },
   "file_extension": ".py",
   "mimetype": "text/x-python",
   "name": "python",
   "nbconvert_exporter": "python",
   "pygments_lexer": "ipython3",
   "version": "3.8.3"
  }
 },
 "nbformat": 4,
 "nbformat_minor": 4
}
