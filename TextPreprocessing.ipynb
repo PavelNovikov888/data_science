{
  "nbformat": 4,
  "nbformat_minor": 0,
  "metadata": {
    "kernelspec": {
      "display_name": "Python 3",
      "language": "python",
      "name": "python3"
    },
    "language_info": {
      "codemirror_mode": {
        "name": "ipython",
        "version": 3
      },
      "file_extension": ".py",
      "mimetype": "text/x-python",
      "name": "python",
      "nbconvert_exporter": "python",
      "pygments_lexer": "ipython3",
      "version": "3.7.3"
    },
    "colab": {
      "provenance": [],
      "include_colab_link": true
    }
  },
  "cells": [
    {
      "cell_type": "markdown",
      "metadata": {
        "id": "view-in-github",
        "colab_type": "text"
      },
      "source": [
        "<a href=\"https://colab.research.google.com/github/PavelNovikov888/data_science/blob/main/TextPreprocessing.ipynb\" target=\"_parent\"><img src=\"https://colab.research.google.com/assets/colab-badge.svg\" alt=\"Open In Colab\"/></a>"
      ]
    },
    {
      "cell_type": "markdown",
      "metadata": {
        "id": "bXTFLI4NF-LR"
      },
      "source": [
        "## Этапы (простой) обработки текста\n",
        "\n",
        "<img src=\"images/textm.png\">"
      ]
    },
    {
      "cell_type": "markdown",
      "metadata": {
        "id": "rgf1SvTRF-LS"
      },
      "source": [
        "\n",
        "## Декодирование\n",
        "\n",
        "\n",
        "**Def.**  \n",
        "перевод последовательности байт в последовательность символов\n",
        "\n",
        "* Распаковка  \n",
        "*plain/.zip/.gz/...*\n",
        "* Кодировка  \n",
        "*ASCII/utf-8/Windows-1251/...*\n",
        "* Формат  \n",
        "*csv/xml/json/doc...*\n",
        "\n",
        "Кроме того: что такое документ?\n",
        "\n"
      ]
    },
    {
      "cell_type": "markdown",
      "metadata": {
        "id": "I3xU0-PjF-LS"
      },
      "source": [
        "## Разбиение на токены\n",
        "**Def.**  \n",
        "разбиение последовательности символов на части (токены), возможно, исключая из рассмотрения некоторые символы  \n",
        "Наивный подход: разделить строку пробелами и выкинуть знаки препинания  \n",
        "\n",
        "\n",
        "*Трисия любила Нью-Йорк, поскольку любовь к Нью-Йорку могла положительно повлиять на ее карьеру.*  \n",
        "\n",
        "\n",
        "**Проблемы:**  \n",
        "* example@example.com, 127.0.0.1\n",
        "* С++, C#\n",
        "* York University vs New York University\n",
        "* Зависимость от языка (“Lebensversicherungsgesellschaftsangestellter”, “l’amour”)\n",
        "Альтернатива: n-граммы"
      ]
    },
    {
      "cell_type": "code",
      "metadata": {
        "id": "BTJ5nrYYF-LT",
        "outputId": "212325cf-6656-4d63-c639-45f3968188db",
        "colab": {
          "base_uri": "https://localhost:8080/"
        }
      },
      "source": [
        "import nltk\n",
        "# выберите пакеты или коллекции, которые вы хотите загрузить.\n",
        "nltk.download('stopwords')"
      ],
      "execution_count": 1,
      "outputs": [
        {
          "output_type": "stream",
          "name": "stderr",
          "text": [
            "[nltk_data] Downloading package stopwords to /root/nltk_data...\n",
            "[nltk_data]   Unzipping corpora/stopwords.zip.\n"
          ]
        },
        {
          "output_type": "execute_result",
          "data": {
            "text/plain": [
              "True"
            ]
          },
          "metadata": {},
          "execution_count": 1
        }
      ]
    },
    {
      "cell_type": "code",
      "metadata": {
        "id": "Olg2Ah-SF-LV",
        "outputId": "33cd3cf8-dfdf-4f0f-822b-a322096f35b2",
        "colab": {
          "base_uri": "https://localhost:8080/"
        }
      },
      "source": [
        "from nltk.tokenize import RegexpTokenizer\n",
        "\n",
        "\n",
        "s = \"Трисия любила Нью-Йорк, поскольку любовь к Нью-Йорку могла положительно повлиять на ее карьеру.\"\n",
        "\n",
        "tokenizer = RegexpTokenizer(\"\\w+|[^\\w\\s]+\")\n",
        "for t in tokenizer.tokenize(s):\n",
        "    print(t)"
      ],
      "execution_count": null,
      "outputs": [
        {
          "output_type": "stream",
          "name": "stdout",
          "text": [
            "Трисия\n",
            "любила\n",
            "Нью\n",
            "-\n",
            "Йорк\n",
            ",\n",
            "поскольку\n",
            "любовь\n",
            "к\n",
            "Нью\n",
            "-\n",
            "Йорку\n",
            "могла\n",
            "положительно\n",
            "повлиять\n",
            "на\n",
            "ее\n",
            "карьеру\n",
            ".\n"
          ]
        }
      ]
    },
    {
      "cell_type": "markdown",
      "metadata": {
        "id": "buEIu-_CF-LV"
      },
      "source": [
        "## Стоп-слова\n",
        "**Def.**  \n",
        "Наиболее частые слова в языке, не содержащие никакой информации о содержании текста\n",
        "\n"
      ]
    },
    {
      "cell_type": "code",
      "metadata": {
        "id": "uZL-XwB9F-LW",
        "colab": {
          "base_uri": "https://localhost:8080/"
        },
        "outputId": "e992dadb-9edf-42fb-9e1f-b8f1f046e29a"
      },
      "source": [
        "from nltk.corpus import stopwords\n",
        "\n",
        "\n",
        "print(\" \".join(stopwords.words(\"russian\")[1:20]))"
      ],
      "execution_count": 2,
      "outputs": [
        {
          "output_type": "stream",
          "name": "stdout",
          "text": [
            "в во не что он на я с со как а то все она так его но да ты\n"
          ]
        }
      ]
    },
    {
      "cell_type": "markdown",
      "metadata": {
        "id": "aXzzCadWF-LW"
      },
      "source": [
        "Проблема: “To be or not to be\""
      ]
    },
    {
      "cell_type": "markdown",
      "metadata": {
        "id": "M2vMM3qnF-LW"
      },
      "source": [
        "## Нормализация\n",
        "**Def.**  \n",
        "Приведение токенов к единому виду для того, чтобы избавиться от поверхностной разницы в написании  \n",
        "\n",
        "Подходы  \n",
        "* сформулировать набор правил, по которым преобразуется токен  \n",
        "Нью-Йорк → нью-йорк → ньюйорк → ньюиорк\n",
        "* явно хранить связи между токенами (WordNet – Princeton)  \n",
        "машина → автомобиль, Windows 6→ window"
      ]
    },
    {
      "cell_type": "code",
      "metadata": {
        "id": "INpfX6wqF-LX",
        "colab": {
          "base_uri": "https://localhost:8080/"
        },
        "outputId": "0e5e081a-0b01-4d59-a570-a4736c1b53d7"
      },
      "source": [
        "s = \"Нью-Йорк\"\n",
        "s1 = s.lower()\n",
        "print(s1)"
      ],
      "execution_count": 3,
      "outputs": [
        {
          "output_type": "stream",
          "name": "stdout",
          "text": [
            "нью-йорк\n"
          ]
        }
      ]
    },
    {
      "cell_type": "code",
      "metadata": {
        "id": "Wa4NDjrIF-LX",
        "colab": {
          "base_uri": "https://localhost:8080/"
        },
        "outputId": "ae085848-1a42-41c7-a378-d7b0406d0929"
      },
      "source": [
        "import re\n",
        "s2 = re.sub(r\"\\W\", \"\", s1, flags=re.U)\n",
        "print(s2)"
      ],
      "execution_count": 4,
      "outputs": [
        {
          "output_type": "stream",
          "name": "stdout",
          "text": [
            "ньюйорк\n"
          ]
        }
      ]
    },
    {
      "cell_type": "code",
      "metadata": {
        "id": "ESECQgj2F-LY",
        "colab": {
          "base_uri": "https://localhost:8080/"
        },
        "outputId": "4303274d-1068-49a3-d28a-93c4260490f1"
      },
      "source": [
        "s3 = re.sub(r\"й\", u\"и\", s2, flags=re.U)\n",
        "print(s3)"
      ],
      "execution_count": 8,
      "outputs": [
        {
          "output_type": "stream",
          "name": "stdout",
          "text": [
            "ньюиорк\n"
          ]
        }
      ]
    },
    {
      "cell_type": "markdown",
      "metadata": {
        "id": "mxgUV4UbF-LY"
      },
      "source": [
        "## Стемминг и Лемматизация\n",
        "**Def.**  \n",
        "Приведение грамматических форм слова и однокоренных слов к единой основе (lemma):\n",
        "* Stemming – с помощью простых эвристических правил\n",
        "  * Porter (Cambridge – 1980)\n",
        "        5 этапов, на каждом применяется набор правил, таких как\n",
        "            sses → ss (caresses → caress)\n",
        "            ies → i (ponies → poni)\n",
        "\n",
        "  * Lovins (1968)\n",
        "  * Paice (1990)\n",
        "  * другие\n",
        "* Lemmatization – с использованием словарей и морфологического анализа\n"
      ]
    },
    {
      "cell_type": "markdown",
      "metadata": {
        "id": "RgDqrYkdF-LZ"
      },
      "source": [
        "## Стемминг"
      ]
    },
    {
      "cell_type": "code",
      "metadata": {
        "id": "fgpAl1MJF-LZ",
        "colab": {
          "base_uri": "https://localhost:8080/"
        },
        "outputId": "3f4e3526-25e0-439e-8fe1-cf900db963c0"
      },
      "source": [
        "from nltk.stem.snowball import PorterStemmer\n",
        "from nltk.stem.snowball import RussianStemmer\n",
        "\n",
        "\n",
        "s = PorterStemmer()\n",
        "print(s.stem(\"Tokenization\"))\n",
        "print(s.stem(\"stemming\"))\n",
        "\n",
        "r = RussianStemmer()\n",
        "print(r.stem(\"Авиация\"))\n",
        "print(r.stem(\"национальный\"))"
      ],
      "execution_count": 9,
      "outputs": [
        {
          "output_type": "stream",
          "name": "stdout",
          "text": [
            "token\n",
            "stem\n",
            "авиац\n",
            "национальн\n"
          ]
        }
      ]
    },
    {
      "cell_type": "markdown",
      "metadata": {
        "id": "xfUJXVE4F-LZ"
      },
      "source": [
        "**Наблюдение**  \n",
        "для сложных языков лучше подходит лемматизация"
      ]
    },
    {
      "cell_type": "markdown",
      "metadata": {
        "id": "6nwjaX0zF-La"
      },
      "source": [
        "## Лемматизация"
      ]
    },
    {
      "cell_type": "code",
      "metadata": {
        "id": "Bq8bFg_DF-La",
        "colab": {
          "base_uri": "https://localhost:8080/"
        },
        "outputId": "289e68a4-895c-40b3-a720-dd0bf5cfbd29"
      },
      "source": [
        "#  !pip install pymorphy2"
      ],
      "execution_count": 10,
      "outputs": [
        {
          "output_type": "stream",
          "name": "stdout",
          "text": [
            "Collecting pymorphy2\n",
            "  Downloading pymorphy2-0.9.1-py3-none-any.whl (55 kB)\n",
            "\u001b[2K     \u001b[90m━━━━━━━━━━━━━━━━━━━━━━━━━━━━━━━━━━━━━━━━\u001b[0m \u001b[32m55.5/55.5 kB\u001b[0m \u001b[31m1.5 MB/s\u001b[0m eta \u001b[36m0:00:00\u001b[0m\n",
            "\u001b[?25hCollecting dawg-python>=0.7.1 (from pymorphy2)\n",
            "  Downloading DAWG_Python-0.7.2-py2.py3-none-any.whl (11 kB)\n",
            "Collecting pymorphy2-dicts-ru<3.0,>=2.4 (from pymorphy2)\n",
            "  Downloading pymorphy2_dicts_ru-2.4.417127.4579844-py2.py3-none-any.whl (8.2 MB)\n",
            "\u001b[2K     \u001b[90m━━━━━━━━━━━━━━━━━━━━━━━━━━━━━━━━━━━━━━━━\u001b[0m \u001b[32m8.2/8.2 MB\u001b[0m \u001b[31m59.1 MB/s\u001b[0m eta \u001b[36m0:00:00\u001b[0m\n",
            "\u001b[?25hCollecting docopt>=0.6 (from pymorphy2)\n",
            "  Downloading docopt-0.6.2.tar.gz (25 kB)\n",
            "  Preparing metadata (setup.py) ... \u001b[?25l\u001b[?25hdone\n",
            "Building wheels for collected packages: docopt\n",
            "  Building wheel for docopt (setup.py) ... \u001b[?25l\u001b[?25hdone\n",
            "  Created wheel for docopt: filename=docopt-0.6.2-py2.py3-none-any.whl size=13705 sha256=1f2c4e74e2cc821dc3e7d9bef8f7d550db61bbe43bb8e70067dda0a6077d9bf9\n",
            "  Stored in directory: /root/.cache/pip/wheels/fc/ab/d4/5da2067ac95b36618c629a5f93f809425700506f72c9732fac\n",
            "Successfully built docopt\n",
            "Installing collected packages: pymorphy2-dicts-ru, docopt, dawg-python, pymorphy2\n",
            "Successfully installed dawg-python-0.7.2 docopt-0.6.2 pymorphy2-0.9.1 pymorphy2-dicts-ru-2.4.417127.4579844\n"
          ]
        }
      ]
    },
    {
      "cell_type": "code",
      "metadata": {
        "id": "qSekO34BF-La",
        "colab": {
          "base_uri": "https://localhost:8080/"
        },
        "outputId": "b2b2330f-9037-47a1-e867-c41b0fb04bd6"
      },
      "source": [
        "import pymorphy2\n",
        "\n",
        "\n",
        "morph = pymorphy2.MorphAnalyzer()\n",
        "print(morph.parse(\"думающему\")[0].normal_form)"
      ],
      "execution_count": 11,
      "outputs": [
        {
          "output_type": "stream",
          "name": "stdout",
          "text": [
            "думать\n"
          ]
        }
      ]
    },
    {
      "cell_type": "code",
      "source": [
        "morph.parse('думающему')"
      ],
      "metadata": {
        "colab": {
          "base_uri": "https://localhost:8080/"
        },
        "id": "-nDzfORjxUA2",
        "outputId": "d87fe119-d62d-4ceb-8313-29714dc92026"
      },
      "execution_count": 18,
      "outputs": [
        {
          "output_type": "execute_result",
          "data": {
            "text/plain": [
              "[Parse(word='думающему', tag=OpencorporaTag('PRTF,impf,intr,pres,actv masc,sing,datv'), normal_form='думать', score=0.25, methods_stack=((DictionaryAnalyzer(), 'думающему', 15, 15),)),\n",
              " Parse(word='думающему', tag=OpencorporaTag('PRTF,impf,intr,pres,actv neut,sing,datv'), normal_form='думать', score=0.25, methods_stack=((DictionaryAnalyzer(), 'думающему', 15, 29),)),\n",
              " Parse(word='думающему', tag=OpencorporaTag('PRTF,impf,tran,pres,actv masc,sing,datv'), normal_form='думать', score=0.25, methods_stack=((DictionaryAnalyzer(), 'думающему', 1399, 15),)),\n",
              " Parse(word='думающему', tag=OpencorporaTag('PRTF,impf,tran,pres,actv neut,sing,datv'), normal_form='думать', score=0.25, methods_stack=((DictionaryAnalyzer(), 'думающему', 1399, 29),))]"
            ]
          },
          "metadata": {},
          "execution_count": 18
        }
      ]
    },
    {
      "cell_type": "markdown",
      "metadata": {
        "id": "xc6Z0UY9F-La"
      },
      "source": [
        "## Heaps' law\n",
        "Эмпирическая закономерность в лингвистике, описывающая распределение числа уникальных слов в документе (или наборе документов) как функцию от его длины.\n",
        "\n",
        "$$\n",
        "M = k T^\\beta, \\;M \\text{ -- размер словаря}, \\; T \\text{ -- количество слов в корпусе}\n",
        "$$\n",
        "$$\n",
        "30 \\leq k \\leq 100, \\; b \\approx 0.5\n",
        "$$\n",
        "\n",
        "<img src=\"images/dim.png\">\n",
        "<img src=\"images/heaps.png\">"
      ]
    },
    {
      "cell_type": "markdown",
      "metadata": {
        "id": "FzDJlw5OF-Lb"
      },
      "source": [
        "## Представление документов\n",
        "**Boolean Model.** Присутствие или отсутствие слова в документе  \n",
        "**Bag of Words.** Порядок токенов не важен  \n",
        "\n",
        "*Погода была ужасная, принцесса была прекрасная.\n",
        "Или все было наоборот?*\n",
        "\n",
        "Координаты\n",
        "* Мультиномиальные: количество токенов в документе\n",
        "* Числовые: взвешенное количество токенов в документе"
      ]
    },
    {
      "cell_type": "markdown",
      "metadata": {
        "id": "7TlHOiiCF-Lb"
      },
      "source": [
        "## Zipf's law\n",
        "Эмпирическая закономерность распределения частоты слов естественного языка\n",
        "\n",
        "$t_1, \\ldots, t_N$ - токены, отранжированные по убыванию частоты\n",
        "\n",
        "$f_1, \\dots, f_N$ - соответствующие частоты\n",
        "\n",
        "**Закон Ципфа**\n",
        "\t$$\n",
        "\tf_i = \\frac{c}{i^k}\n",
        "\t$$\n",
        "\n",
        "\tЧто еще? Посещаемость сайтов, количество друзей, население городов...\n",
        "<img src=\"images/zipf.png\">\n"
      ]
    },
    {
      "cell_type": "code",
      "source": [
        "import pandas as pd\n",
        "import string\n",
        "from string import punctuation"
      ],
      "metadata": {
        "id": "P1QtcCcG1X8O"
      },
      "execution_count": 13,
      "outputs": []
    },
    {
      "cell_type": "markdown",
      "source": [
        "удалить все символы пунктуации из текстов;\n",
        "привести каждый из текстов к нижнему регистру;\n",
        "убрать лишние пробелы с обеих сторон текстов;\n",
        "разбить тексты по пробелу на слова.\n",
        "В результате работы программы у вас должна получиться новая Series с именем new_s, которая состоит из списков слов."
      ],
      "metadata": {
        "id": "Jfi-z55X1ysY"
      }
    },
    {
      "cell_type": "code",
      "source": [
        "s = pd.Series(\n",
        "    [\"Авторитет и дружба вода и огонь, вещи разнородные и враждебные; равенство условие дружбы.\",\n",
        "     \"Нет силы более могучей, чем знание; человек, вооружённый знанием, — непобедим.\",\n",
        "     \"Истинная сила человека не в порывах, а в нерушимом спокойствии.\",\n",
        "     \"Величайшее богатство народа его язык.\"\n",
        "     ],\n",
        "    dtype=\"string\"\n",
        ")\n",
        "new_s = s.str.replace(f'[{string.punctuation}]', '', regex=True).str.lower().str.strip(' ').str.split(' ')\n",
        "# new_s.head()\n",
        "# new_s.map(lambda i: \"\".join(i for i in new_s if i not in exclude))\n",
        "# new_s = s.str.lower().str.strip(' ').str.split(' ')\n",
        "print(new_s)"
      ],
      "metadata": {
        "colab": {
          "base_uri": "https://localhost:8080/"
        },
        "id": "Q0npZkkU1UF6",
        "outputId": "c205e85a-46b3-49cc-d885-8a560e8e164f"
      },
      "execution_count": 18,
      "outputs": [
        {
          "output_type": "stream",
          "name": "stdout",
          "text": [
            "0    [авторитет, и, дружба, вода, и, огонь, вещи, р...\n",
            "1    [нет, силы, более, могучей, чем, знание, челов...\n",
            "2    [истинная, сила, человека, не, в, порывах, а, ...\n",
            "3           [величайшее, богатство, народа, его, язык]\n",
            "dtype: object\n"
          ]
        }
      ]
    },
    {
      "cell_type": "code",
      "source": [
        "exclude"
      ],
      "metadata": {
        "colab": {
          "base_uri": "https://localhost:8080/"
        },
        "id": "tzJ3jRyIHioI",
        "outputId": "04518142-ef21-4f9e-d092-e2e934f7d622"
      },
      "execution_count": 11,
      "outputs": [
        {
          "output_type": "execute_result",
          "data": {
            "text/plain": [
              "['!',\n",
              " '\"',\n",
              " '#',\n",
              " '$',\n",
              " '%',\n",
              " '&',\n",
              " \"'\",\n",
              " '(',\n",
              " ')',\n",
              " '*',\n",
              " '+',\n",
              " ',',\n",
              " '-',\n",
              " '.',\n",
              " '/',\n",
              " ':',\n",
              " ';',\n",
              " '<',\n",
              " '=',\n",
              " '>',\n",
              " '?',\n",
              " '@',\n",
              " '[',\n",
              " '\\\\',\n",
              " ']',\n",
              " '^',\n",
              " '_',\n",
              " '`',\n",
              " '{',\n",
              " '|',\n",
              " '}',\n",
              " '~']"
            ]
          },
          "metadata": {},
          "execution_count": 11
        }
      ]
    },
    {
      "cell_type": "code",
      "source": [],
      "metadata": {
        "id": "iRS5MFxx6zPw"
      },
      "execution_count": 79,
      "outputs": []
    }
  ]
}