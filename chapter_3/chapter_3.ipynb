{
 "cells": [
  {
   "cell_type": "markdown",
   "metadata": {},
   "source": [
    "# 3. Визуализация данных"
   ]
  },
  {
   "cell_type": "code",
   "execution_count": null,
   "metadata": {},
   "outputs": [],
   "source": [
    "# Подключение библиотеки matplotlib\n",
    "import matplotlib as mpl\n",
    "\n",
    "# Подключение библиотеки matplotlib.pyplot\n",
    "import matplotlib.pyplot as plt"
   ]
  },
  {
   "cell_type": "markdown",
   "metadata": {},
   "source": [
    "## 3.1. Библиотека matplotlib"
   ]
  },
  {
   "cell_type": "code",
   "execution_count": null,
   "metadata": {},
   "outputs": [],
   "source": [
    "import matplotlib.pyplot as plt\n",
    "fig = plt.figure()\n",
    "ax = plt.axes()\n",
    "plt.show()"
   ]
  },
  {
   "cell_type": "markdown",
   "metadata": {},
   "source": [
    "## 3.2. Линейный график"
   ]
  },
  {
   "cell_type": "code",
   "execution_count": null,
   "metadata": {},
   "outputs": [],
   "source": [
    "import matplotlib.pyplot as plt\n",
    "import numpy as np\n",
    "\n",
    "x_data = np.linspace(0, 20, 1000) # от 0 до 20 с шагом 0.01\n",
    "y_data = np.cos(x_data)\n",
    "\n",
    "fig = plt.figure()\n",
    "ax = plt.axes()\n",
    "ax.plot(x_data, y_data)\n",
    "plt.show()"
   ]
  },
  {
   "cell_type": "code",
   "execution_count": null,
   "metadata": {},
   "outputs": [],
   "source": [
    "import matplotlib.pyplot as plt\n",
    "import numpy as np\n",
    "\n",
    "x_data = np.linspace(0, 20, 1000)\n",
    "y_data = np.sin(x_data)\n",
    "\n",
    "plt.plot(x_data, y_data)\n",
    "plt.show()"
   ]
  },
  {
   "cell_type": "code",
   "execution_count": null,
   "metadata": {},
   "outputs": [],
   "source": [
    "import matplotlib.pyplot as plt\n",
    "import numpy as np\n",
    "\n",
    "x_data = np.linspace(0, 20, 1000)\n",
    "y_1_data = np.cos(x_data)\n",
    "y_2_data = np.sin(x_data)\n",
    "\n",
    "plt.plot(x_data, y_1_data, color='r', linestyle ='--')\n",
    "plt.plot(x_data, y_2_data)\n",
    "\n",
    "plt.xlabel('x_data')\n",
    "plt.ylabel('y_data')\n",
    "plt.title('function')\n",
    "plt.show()"
   ]
  },
  {
   "cell_type": "markdown",
   "metadata": {},
   "source": [
    "## 3.3. Точечный график"
   ]
  },
  {
   "cell_type": "code",
   "execution_count": null,
   "metadata": {},
   "outputs": [],
   "source": [
    "# Построение графика с использованием модуля numpy\n",
    "import matplotlib.pyplot as plt\n",
    "import numpy as np\n",
    "\n",
    "x_data = np.linspace(0, 20, 1000)\n",
    "y_data = np.cos(x_data)\n",
    "plt.scatter(x_data, y_data, color='r', marker='>')\n",
    "plt.xlabel('x')\n",
    "plt.ylabel('y')\n",
    "plt.title('function')\n",
    "plt.show()"
   ]
  },
  {
   "cell_type": "code",
   "execution_count": null,
   "metadata": {},
   "outputs": [],
   "source": [
    "# Построение графика с использованием модуля pandas\n",
    "import matplotlib.pyplot as plt\n",
    "import pandas as pd\n",
    "import numpy as np\n",
    "\n",
    "numbers = [[1, 5], [2, 3], [3, 6], [4, 7], [5, 4]]\n",
    "\n",
    "header = ['x_data', 'y_data']\n",
    "\n",
    "df = pd.DataFrame(data = numbers, columns = header)\n",
    "\n",
    "plt.scatter(df['x_data'], df['y_data'], marker='o')\n",
    "# df.plot(kind = 'scatter', x = ' x_data', y = 'y_data', marker='o')\n",
    "plt.show()"
   ]
  },
  {
   "cell_type": "markdown",
   "metadata": {},
   "source": [
    "## 3.4. Построение гистограмм и столбчатых диаграмм"
   ]
  },
  {
   "cell_type": "code",
   "execution_count": null,
   "metadata": {},
   "outputs": [],
   "source": [
    "# Построение гистограмм\n",
    "import matplotlib.pyplot as plt\n",
    "import numpy as np\n",
    "heights = [-]\n",
    "ages = [-]\n",
    "\n",
    "# Создание общего графического окна с nrows = 1, ncols = 2\n",
    "fig, (ax1, ax2) = plt.subplots(nrows=1, ncols=2, figsize=(8, 4))\n",
    "\n",
    "ax1.hist(heights, bins = 10, color='b')\n",
    "ax2.hist(ages, bins = 10, color='r')\n",
    "\n",
    "plt.show()"
   ]
  },
  {
   "cell_type": "code",
   "execution_count": null,
   "metadata": {},
   "outputs": [],
   "source": [
    "import matplotlib.pyplot as plt\n",
    "import numpy as np\n",
    "\n",
    "x = np.arange(1, 8)\n",
    "y = np.random.randint(1, 20, size = 7)\n",
    "plt.style.use('ggplot')\n",
    "plt.bar(x, y, color='b')\n",
    "plt.show()"
   ]
  },
  {
   "cell_type": "code",
   "execution_count": null,
   "metadata": {},
   "outputs": [],
   "source": [
    "name_cnt = df['name'].value_counts()\n",
    "\n",
    "plt.style.use('ggplot')\n",
    "name_cnt.plot(kind ='bar')\n",
    "plt.show()"
   ]
  },
  {
   "cell_type": "markdown",
   "metadata": {},
   "source": [
    "## 3.5. Построение boxplot (ящик с усами)"
   ]
  },
  {
   "cell_type": "code",
   "execution_count": null,
   "metadata": {},
   "outputs": [],
   "source": [
    "# Определение уникальных значений в столбце name\n",
    "import matplotlib.pyplot as plt\n",
    "import numpy as np\n",
    "\n",
    "heights = [-] # people_dataset\n",
    "\n",
    "plt.style.use('classic')\n",
    "plt.boxplot(heights)\n",
    "plt.show()"
   ]
  }
 ],
 "metadata": {
  "kernelspec": {
   "display_name": "Python 3",
   "language": "python",
   "name": "python3"
  },
  "language_info": {
   "codemirror_mode": {
    "name": "ipython",
    "version": 3
   },
   "file_extension": ".py",
   "mimetype": "text/x-python",
   "name": "python",
   "nbconvert_exporter": "python",
   "pygments_lexer": "ipython3",
   "version": "3.8.3"
  }
 },
 "nbformat": 4,
 "nbformat_minor": 4
}
