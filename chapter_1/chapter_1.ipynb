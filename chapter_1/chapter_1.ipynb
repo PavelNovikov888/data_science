{
 "cells": [
  {
   "cell_type": "markdown",
   "metadata": {},
   "source": [
    "# 1. Основы Python и анализа данных"
   ]
  },
  {
   "cell_type": "markdown",
   "metadata": {},
   "source": [
    "## 1.1. Целые числа, ввод-вывод, простые операции"
   ]
  },
  {
   "cell_type": "code",
   "execution_count": null,
   "metadata": {},
   "outputs": [],
   "source": [
    "print('Hello World!')"
   ]
  },
  {
   "cell_type": "code",
   "execution_count": null,
   "metadata": {},
   "outputs": [],
   "source": [
    "print(3 + 2)                           # (1)\n",
    "print('3' + '2')                       # (2)\n",
    "print('3 + 2 =', 3 + 2)                # (3)\n",
    "print('3 + 2 =', 3 + 2, sep=' ')       # (4)\n",
    "print(4, 3, 2, 1, sep=' + ', end='\\n') # (5)"
   ]
  },
  {
   "cell_type": "code",
   "execution_count": null,
   "metadata": {},
   "outputs": [],
   "source": [
    "import math # Подключение математического модуля\n",
    "\n",
    "# Дана правильная треугольная пирамида\n",
    "a = 1  # 1 сторона основания\n",
    "b = 1  # 2 сторона основания\n",
    "c = 1  # 3 сторона основания\n",
    "\n",
    "h = math.sqrt(3)               # Высота пирамиды\n",
    "S = (a * a * math.sqrt(3)) / 4 # Площадь основания\n",
    "V = 1/3 * S * h                # Объём фигуры\n",
    "\n",
    "print('Объём пирамиды = {:.2f}'.format(V))\n"
   ]
  },
  {
   "cell_type": "code",
   "execution_count": null,
   "metadata": {},
   "outputs": [],
   "source": [
    "print('|{: <10.2f}|'.format(123.0))  # Выравнивание по левому краю\n",
    "print('|{: >10.1f}|'.format(1234.0)) # Выравнивание по правому краю\n",
    "print('|{: ^10.1%}|'.format(0.12))   # Выравнивание по центру"
   ]
  },
  {
   "cell_type": "code",
   "execution_count": null,
   "metadata": {},
   "outputs": [],
   "source": [
    "# Программа для нахождения площади прямоугольника\n",
    "a = int(input())  # сторона a\n",
    "b = int(input())  # сторона b\n",
    "\n",
    "S = a * b         # Площадь прямоугольника\n",
    "\n",
    "print('Площадь прямоугольника = {:.2f}'.format(S))"
   ]
  },
  {
   "cell_type": "code",
   "execution_count": null,
   "metadata": {},
   "outputs": [],
   "source": [
    "string = 'abcdefghi'\n",
    "\n",
    "s_1 = string[0]\n",
    "s_2 = string[0:5]\n",
    "s_3 = string[3:]\n",
    "s_4 = string[-1]\n",
    "s_5 = string[-5:-2]\n",
    "s_6 = string[:-5]\n",
    "s_7 = string[::-1]\n",
    "print(s_1, s_2, s_3, s_4, s_5, s_6, s_7, sep='\\n')"
   ]
  },
  {
   "cell_type": "code",
   "execution_count": null,
   "metadata": {},
   "outputs": [],
   "source": [
    "st = '123123456'\n",
    "\n",
    "s_1 = st.find('123', 3)           # Индекс первого вхождения от 3-го индекса\n",
    "s_2 = st.replace('456', '123', 1) # Замена '456' на '123' один раз\n",
    "s_3 = st.count('123')             # Подсчёт всех вхождений '123'\n",
    "\n",
    "s_4 = len(st)                     # Нахождение длины строки\n",
    "\n",
    "print(s_1, s_2, s_3, s_4, sep='\\n')"
   ]
  },
  {
   "cell_type": "markdown",
   "metadata": {},
   "source": [
    "## 1.2. Вещественные числа и операции над ними"
   ]
  },
  {
   "cell_type": "code",
   "execution_count": null,
   "metadata": {},
   "outputs": [],
   "source": [
    "a = 0.1  # число a\n",
    "b = 0.2  # число b\n",
    "\n",
    "print(a + b)"
   ]
  },
  {
   "cell_type": "code",
   "execution_count": null,
   "metadata": {},
   "outputs": [],
   "source": [
    "import math            # Подключение математического модуля\n",
    "\n",
    "print(int(2.5))        # Округление в сторону нуля\n",
    "print(round(2.5))      # Округляет до ближайшего целого\n",
    "print(math.floor(2.5)) # Округление в меньшую сторону\n",
    "print(math.ceil(2.5))  # Округление в большую сторону"
   ]
  },
  {
   "cell_type": "markdown",
   "metadata": {},
   "source": [
    "## 1.3. Условный оператор и цикл while"
   ]
  },
  {
   "cell_type": "code",
   "execution_count": null,
   "metadata": {},
   "outputs": [],
   "source": [
    "a = 1  # значение a\n",
    "b = 2  # значение b\n",
    "c = 3  # значение c\n",
    "d = 4  # значение d\n",
    "\n",
    "result_1 = a <= b and c <= d\n",
    "result_2 = a >= b or c >= d\n",
    "\n",
    "print(result_1, result_2)"
   ]
  },
  {
   "cell_type": "code",
   "execution_count": null,
   "metadata": {},
   "outputs": [],
   "source": [
    "num = int(input())   # Ввод целого числа\n",
    "\n",
    "if num > 0:          # Если число num > 0, то выводим\n",
    "    print('Введённое число > 0')\n",
    "else:                # Иначе выводим следующее\n",
    "    print('Введённое число < 0')"
   ]
  },
  {
   "cell_type": "code",
   "execution_count": null,
   "metadata": {},
   "outputs": [],
   "source": [
    "num = int(input())   # Ввод целого числа\n",
    "\n",
    "if num == 1:         # Если число num = 1, то выводим\n",
    "    print('Один')\n",
    "elif num == 2:       # Если число num = 2, то выводим\n",
    "    print('Два')\n",
    "else:                # Иначе выводим следующее\n",
    "    print('Другое число')"
   ]
  },
  {
   "cell_type": "code",
   "execution_count": null,
   "metadata": {},
   "outputs": [],
   "source": [
    "num = int(input())     # Ввод целого числа\n",
    "\n",
    "while num != 0:        # Пока введённое число не равно нулю\n",
    "    print('Вы ввели {}, программа продолжается'.format(num))\n",
    "    num = int(input()) # Ввод нового числа\n",
    "\n",
    "print('Вы ввели 0, программа завершена')"
   ]
  },
  {
   "cell_type": "code",
   "execution_count": null,
   "metadata": {},
   "outputs": [],
   "source": [
    "num = int(input())     # Ввод целого числа\n",
    "out = 0\n",
    "\n",
    "while num > 0:         # Пока число > нуля\n",
    "    print(out, end=' ')\n",
    "    out += 1\n",
    "    num -= 1"
   ]
  },
  {
   "cell_type": "markdown",
   "metadata": {},
   "source": [
    "## 1.4. Кортежи, списки, их сортировка и цикл for"
   ]
  },
  {
   "cell_type": "code",
   "execution_count": null,
   "metadata": {},
   "outputs": [],
   "source": [
    "string = '12345'       # Ввод строки\n",
    "\n",
    "tuplen = tuple(string) # Создание кортежа\n",
    "listn = list(string)   # Создание списка\n",
    "\n",
    "print(tuplen)          # Вывод кортежа\n",
    "print(listn)           # Вывод списка\n",
    "\n",
    "print(tuplen[0])       # Вывод элемента кортежа с индексом [0]\n",
    "print(listn[4])        # Вывод элемента списка с индексом [4]"
   ]
  },
  {
   "cell_type": "code",
   "execution_count": null,
   "metadata": {},
   "outputs": [],
   "source": [
    "# Определение списка целых чисел 3x3\n",
    "listn = [[5, 3, 1],            \n",
    "         [4, 5, 8],\n",
    "         [7, 2, 5]]\n",
    "\n",
    "# Сортировка списка по 2 столбцу с инверсией\n",
    "listn.sort(key=lambda i: i[1], reverse=True)\n",
    "\n",
    "print(listn)           # Вывод нового списка"
   ]
  },
  {
   "cell_type": "code",
   "execution_count": null,
   "metadata": {},
   "outputs": [],
   "source": [
    "listn = list(map(int, input().split()))"
   ]
  },
  {
   "cell_type": "code",
   "execution_count": null,
   "metadata": {},
   "outputs": [],
   "source": [
    "listn = [1, 2, 3]\n",
    "print(' '.join(map(str, listn)))"
   ]
  },
  {
   "cell_type": "code",
   "execution_count": null,
   "metadata": {},
   "outputs": [],
   "source": [
    "print(list(range(10)))  # Генерация списка [0, 1, 2, 3, 4, 5, 6, 7, 8, 9]"
   ]
  },
  {
   "cell_type": "code",
   "execution_count": null,
   "metadata": {},
   "outputs": [],
   "source": [
    "apples = ['red', 'green', 'yellow']\n",
    "for color in apples:\n",
    "    print('Цвет яблока', color, sep=' ')"
   ]
  },
  {
   "cell_type": "code",
   "execution_count": null,
   "metadata": {},
   "outputs": [],
   "source": [
    "listn = []               # Создание пустого списка\n",
    "\n",
    "for i in range(1, 10):   # Цикл для i от 1 до 9\n",
    "    listn.append(i**2)   # Добавления квадрата числа в список\n",
    "print(listn)             # Вывод списка на экран"
   ]
  },
  {
   "cell_type": "code",
   "execution_count": null,
   "metadata": {},
   "outputs": [],
   "source": [
    "for i in range(1, 10):\n",
    "    for j in range(1, 10):\n",
    "        print('{: >2.0f}'.format(i*j), end=' ')\n",
    "    print()"
   ]
  },
  {
   "cell_type": "code",
   "execution_count": null,
   "metadata": {},
   "outputs": [],
   "source": [
    "print('Введите номер столбца:')\n",
    "n = int(input())                  # Ввод номера столбца\n",
    "\n",
    "infile = open('input.txt')        # Открытие файла\n",
    "filen = infile.readlines()        # Чтение всех строк файла\n",
    "\n",
    "columns = []                      # Создание пустого списка columns\n",
    "column = []                       # Создание пустого списка column\n",
    "\n",
    "for f in filen:                   # Построчное чтение данных\n",
    "    line = f.split()              # Применение функции split() к строке\n",
    "    columns.append(line)          # Добавление строки к списку\n",
    "print(columns)                    # Вывод списка на экран\n",
    "for i in range(len(columns)):     # Срез столбца с номером n\n",
    "    column.append(columns[i][n])\n",
    "\n",
    "print('Содержимое {} столбца:'.format(n))\n",
    "print(column)\n",
    "\n",
    "infile.close()"
   ]
  },
  {
   "cell_type": "markdown",
   "metadata": {},
   "source": [
    "## 1.5. Функции и рекурсия"
   ]
  },
  {
   "cell_type": "code",
   "execution_count": null,
   "metadata": {},
   "outputs": [],
   "source": [
    "a = int(input())\n",
    "b = int(input())\n",
    "\n",
    "def func_1(n1, n2):  # Функция для нахождения суммы\n",
    "    total = n1 + n2\n",
    "    return total\n",
    "\n",
    "def func_2(n1, n2):  # Функция для нахождения разности\n",
    "    differ = n1 - n2\n",
    "    return differ\n",
    "    \n",
    "def func_3(n1, n2):  # Функция для нахождения произведения\n",
    "    multip = n1 * n2\n",
    "    return multip\n",
    "    \n",
    "def func_4(n1, n2):  # Функция для нахождения частного\n",
    "    division = n1 / n2\n",
    "    return division\n",
    "\n",
    "print('Сумма двух чисел = ', func_1(a, b))\n",
    "\n",
    "print('Разность двух чисел = ', func_2(a, b))\n",
    "\n",
    "print('Произведение двух чисел = ', func_3(a, b))\n",
    "\n",
    "print('Частное двух чисел = ', func_4(a, b))"
   ]
  },
  {
   "cell_type": "code",
   "execution_count": null,
   "metadata": {},
   "outputs": [],
   "source": [
    "n = int(input())\n",
    "\n",
    "fakt = 1\n",
    "for i in range(1, n + 1):      # Нахождение факториала\n",
    "        fakt *= i\n",
    "print('Факториал без функции = ', fakt)\n",
    "\n",
    "def faktorial(n):              # Функция нахождения факториала\n",
    "    fakt = 1\n",
    "    for i in range(1, n + 1):\n",
    "        fakt *= i\n",
    "    return fakt\n",
    "print('Факториал через функцию = ', faktorial(n))"
   ]
  },
  {
   "cell_type": "code",
   "execution_count": null,
   "metadata": {},
   "outputs": [],
   "source": [
    "n = int(input())\n",
    "\n",
    "def faktorial(n):                # Функция нахождения факториала\n",
    "    if n == 0:\n",
    "        return 1\n",
    "    return n * faktorial(n - 1)  # Рекурсия функции faktorial(n)\n",
    "\n",
    "print(faktorial(n))"
   ]
  },
  {
   "cell_type": "markdown",
   "metadata": {},
   "source": [
    "## 1.6. Множества и словари"
   ]
  },
  {
   "cell_type": "code",
   "execution_count": null,
   "metadata": {},
   "outputs": [],
   "source": [
    "nSet_1 = {3, 1, 2, 3}             # Создание множества\n",
    "print(nSet_1)\n",
    "\n",
    "nSet_2 = set((3, 1, 2))           # Создание множества из кортежа\n",
    "print(nSet_2)\n",
    "\n",
    "nSet_3 = set([3, 1, 2])           # Создание множества из списка\n",
    "print(nSet_3)\n",
    "\n",
    "nSet_4 = set(range(1, 10, 2))     # Создание множества, используя range()\n",
    "print(nSet_4)\n",
    "\n",
    "nSet_5 = {1, (1, 2, 3), 'Python'} # Создание множества из разных типов данных\n",
    "print(nSet_5)"
   ]
  },
  {
   "cell_type": "code",
   "execution_count": null,
   "metadata": {},
   "outputs": [],
   "source": [
    "nSet = {1, '2', 3, '4', 5}        # Создание множества\n",
    "for elem in nSet:                 # Перебор всех элементов множества\n",
    "    print(elem, end=' ')          # Печать элемента на экран"
   ]
  },
  {
   "cell_type": "code",
   "execution_count": null,
   "metadata": {},
   "outputs": [],
   "source": [
    "nSet_1 = {1, 2, 3, 4, 5}\n",
    "nSet_2 = {4, 5, 6, 7, 8}\n",
    "\n",
    "print(nSet_1 | nSet_2)\n",
    "print(nSet_1 & nSet_2)\n",
    "print(nSet_1 - nSet_2)\n",
    "print(nSet_1 ^ nSet_2)\n",
    "\n",
    "print(nSet_1 == nSet_2)\n",
    "print(nSet_1 != nSet_2)\n",
    "print(nSet_1 <= nSet_2)\n",
    "print(nSet_1 < nSet_2)"
   ]
  },
  {
   "cell_type": "code",
   "execution_count": null,
   "metadata": {},
   "outputs": [],
   "source": [
    "countries = {'Russia' : 'Moscow', 'Germany' : 'Berlin', 'France' : 'Paris'}\n",
    "\n",
    "countries['Germany'] = 'Berlin' # Добавление 2 ключ-значение\n",
    "countries['France'] = 'Paris'   # Добавление 3 ключ-значение\n",
    "\n",
    "print(countries)\n",
    "\n",
    "del countries['Germany']        # Удаление элемента с ключом 'Germany'\n",
    "print(countries)"
   ]
  },
  {
   "cell_type": "code",
   "execution_count": null,
   "metadata": {},
   "outputs": [],
   "source": [
    "countries = {'Russia' : 'Moscow', 'Germany' : 'Berlin', 'France' : 'Paris'}\n",
    "\n",
    "for country in countries:                  # Обращение к элементу по индексу\n",
    "    print(country, countries[country])\n",
    "\n",
    "for country, capital in countries.items(): # Обращение через функцию items()\n",
    "    print(country, capital)\n",
    "\n",
    "for country in countries.keys():           # Обращение к ключу словаря\n",
    "    print(country)\n",
    "\n",
    "for capital in countries.values():         # Обращение к значениям словаря\n",
    "    print(capital)\n",
    "\n",
    "countries.setdefault('Spain','Madrid')     # Добавления новой пары\n",
    "print(countries)"
   ]
  },
  {
   "cell_type": "markdown",
   "metadata": {},
   "source": [
    "## 1.7. Введение в объектно-ориентированное программирование"
   ]
  },
  {
   "cell_type": "code",
   "execution_count": null,
   "metadata": {},
   "outputs": [],
   "source": [
    "class Area:\n",
    "    side_a = 5\n",
    "    side_b = 5\n",
    "    \n",
    "    def change_side_a(self, new_side_a):      # Изменение атрибута side_a\n",
    "        self.side_a = new_side_a\n",
    "        \n",
    "    def change_side_b(self, new_side_b):      # Изменение атрибута side_b\n",
    "        self.side_b = new_side_b\n",
    "        \n",
    "    def change_side_ab(self, new_side_a, new_side_b):\n",
    "        self.side_a = new_side_a\n",
    "        self.side_b = new_side_b\n",
    "        \n",
    "    def area(self):\n",
    "        return self.side_a*self.side_b\n",
    "\n",
    "obj = Area()                  # Создание нового объекта\n",
    "print(obj.side_a, obj.side_b) # Вывод на экран атрибутов\n",
    "print(obj.area())             # Площадь прямоугольника\n",
    "\n",
    "obj.change_side_a(2)          # Изменение атрибута side_a\n",
    "obj.change_side_b(2)          # Изменение атрибута side_b\n",
    "print(obj.side_a, obj.side_b) # Вывод на экран новых атрибутов\n",
    "print(obj.area())             # Площадь прямоугольника\n",
    "\n",
    "obj.change_side_ab(10, 10)    # Изменение атрибутов\n",
    "\n",
    "print(obj.side_a, obj.side_b) # Вывод на экран новых атрибутов\n",
    "print(obj.area())             # Площадь прямоугольника"
   ]
  },
  {
   "cell_type": "code",
   "execution_count": null,
   "metadata": {},
   "outputs": [],
   "source": [
    "class Area_1:                 # Создание класса Area_1\n",
    "    side_a = 5\n",
    "    side_b = 5\n",
    "\n",
    "    def change_side_a(self, new_side_a):      # Изменение атрибута side_a\n",
    "        self.side_a = new_side_a\n",
    "    \n",
    "    def change_side_b(self, new_side_b):      # Изменение атрибута side_b\n",
    "        self.side_b = new_side_b\n",
    "    \n",
    "    def area(self):\n",
    "        return self.side_a*self.side_b\n",
    "    \n",
    "class Area_2(Area_1):         # Создание класса Area_2\n",
    "    \n",
    "    def change_side_ab(self, new_side_a, new_side_b):\n",
    "        self.side_a = new_side_a\n",
    "        self.side_b = new_side_b\n",
    "\n",
    "obj = Area_2()                # Создание нового объекта\n",
    "\n",
    "print(obj.side_a, obj.side_b) # Вывод на экран атрибутов\n",
    "print(obj.area())             # Площадь прямоугольника\n",
    "\n",
    "obj.change_side_ab(3, 3)\n",
    "\n",
    "print(obj.side_a, obj.side_b) # Вывод на экран новых атрибутов\n",
    "print(obj.area())             # Площадь прямоугольника"
   ]
  },
  {
   "cell_type": "code",
   "execution_count": null,
   "metadata": {},
   "outputs": [],
   "source": [
    "a = int(input())\n",
    "b = int(input())\n",
    "\n",
    "class One:                 # Определение класса One\n",
    "    def function(self):    # Определение функции function для класса One\n",
    "        return a + b\n",
    "\n",
    "class Two:                 # Определение класса Two\n",
    "    def function(self):    # Определение функции function для класса Two\n",
    "        return a - b  \n",
    "obj_1 = One()              # Создание нового объекта obj_1\n",
    "obj_2 = Two()              # Создание нового объекта obj_2\n",
    "\n",
    "print(obj_1.func())\n",
    "print(obj_2.func())"
   ]
  },
  {
   "cell_type": "code",
   "execution_count": null,
   "metadata": {},
   "outputs": [],
   "source": [
    "class YesInit:                    # Класс с конструктором класса\n",
    "    def __init__(self, one, two):\n",
    "        self.fname = one\n",
    "        self.sname = two\n",
    "\n",
    "obj = YesInit('Elon', 'Musk') \n",
    "print (obj.fname, obj.sname)      # Вывод: Elon Musk\n",
    "    \n",
    "class NoInit:                     # Класс без конструктором класса\n",
    "    def names(self, one, two):\n",
    "        self.fname = one\n",
    "        self.sname = two \n",
    "\n",
    "obj = NoInit()  \n",
    "obj.names('Elon', 'Musk') \n",
    "print (obj.fname, obj.sname)      # Вывод: Elon Musk"
   ]
  },
  {
   "cell_type": "code",
   "execution_count": null,
   "metadata": {},
   "outputs": [],
   "source": [
    "class mMet:\n",
    "    def __init__(self, x):      # Создание конструктора __init__\n",
    "        self.base = x\n",
    "        \n",
    "    def __add__(self, a):       # Создание метода __add__\n",
    "        return self.base + a\n",
    "    def __sub__(self, a):       # Создание метода __sub__\n",
    "        return self.base - a\n",
    "    def __mul__(self, a):       # Создание метода __mul__\n",
    "        return self.base * a\n",
    "    def __div__(self, a):       # Создание метода __div__\n",
    "        return self.base / a\n",
    "\n",
    "res = mMet(5)\n",
    "\n",
    "print(res.__add__(3))           # Вывод: 8\n",
    "print(res.__sub__(3))           # Вывод: 2\n",
    "print(res.__mul__(3))           # Вывод: 15\n",
    "print(res.__div__(5))           # Вывод: 1.0"
   ]
  }
 ],
 "metadata": {
  "kernelspec": {
   "display_name": "Python 3",
   "language": "python",
   "name": "python3"
  },
  "language_info": {
   "codemirror_mode": {
    "name": "ipython",
    "version": 3
   },
   "file_extension": ".py",
   "mimetype": "text/x-python",
   "name": "python",
   "nbconvert_exporter": "python",
   "pygments_lexer": "ipython3",
   "version": "3.8.3"
  }
 },
 "nbformat": 4,
 "nbformat_minor": 4
}
